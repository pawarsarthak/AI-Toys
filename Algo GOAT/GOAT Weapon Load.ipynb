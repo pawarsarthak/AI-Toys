{
 "cells": [
  {
   "cell_type": "raw",
   "id": "0a9a5691",
   "metadata": {
    "scrolled": true
   },
   "source": [
    "pip install fyers-apiv3"
   ]
  },
  {
   "cell_type": "raw",
   "id": "99e398a1",
   "metadata": {},
   "source": [
    "pip install pytest-playwright"
   ]
  },
  {
   "cell_type": "raw",
   "id": "fcb2d0d2",
   "metadata": {},
   "source": [
    "pip install playwright"
   ]
  },
  {
   "cell_type": "raw",
   "id": "9d701e66",
   "metadata": {},
   "source": [
    "pip install mplfinance"
   ]
  },
  {
   "cell_type": "code",
   "execution_count": 45,
   "id": "64ef62f0",
   "metadata": {},
   "outputs": [],
   "source": [
    "from fyers_apiv3 import fyersModel\n",
    "from fyers_apiv3.FyersWebsocket import data_ws\n",
    "\n",
    "import pandas as pd\n",
    "import numpy as np\n",
    "import math\n",
    "\n",
    "import datetime as dt\n",
    "from datetime import date, timedelta,datetime\n",
    "import time \n",
    "\n",
    "from fyers_apiv3.FyersWebsocket import data_ws\n",
    "import csv\n",
    "\n",
    "import matplotlib.pyplot as plt\n",
    "import mplfinance as mpf\n",
    "\n",
    "import scipy\n",
    "\n",
    "from  time import sleep\n",
    "import os\n",
    "import pyotp\n",
    "import requests\n",
    "import json\n",
    "import pytz\n",
    "from urllib.parse import parse_qs,urlparse\n",
    "import base64\n",
    "\n",
    "import warnings\n",
    "pd.set_option('display.max_columns', None)\n",
    "warnings.filterwarnings('ignore')"
   ]
  },
  {
   "cell_type": "code",
   "execution_count": 46,
   "id": "30e38c7f",
   "metadata": {},
   "outputs": [
    {
     "data": {
      "text/plain": [
       "{'s': 'ok',\n",
       " 'code': 200,\n",
       " 'message': '',\n",
       " 'data': {'fy_id': 'YB00632',\n",
       "  'name': 'BABAN MARUTI PAWAR',\n",
       "  'image': None,\n",
       "  'display_name': None,\n",
       "  'pin_change_date': '21-12-2023 21:01:26',\n",
       "  'email_id': 'babanpawar8975@gmail.com',\n",
       "  'pwd_change_date': None,\n",
       "  'PAN': '---------',\n",
       "  'mobile_number': '8975963982',\n",
       "  'totp': True,\n",
       "  'pwd_to_expire': 90}}"
      ]
     },
     "execution_count": 46,
     "metadata": {},
     "output_type": "execute_result"
    }
   ],
   "source": [
    "redirect_uri = \"https://trade.fyers.in/api-login/redirect-uri/index.html\"\n",
    "client_id='HTHFWXFS49-100'\n",
    "secret_key = 'JOQVVTY9UJ'\n",
    "FY_ID = \"YB00632\"  \n",
    "TOTP_KEY = \"3Y7PAJSPNHXEADGRDD726MLHJW43AJGH\"  \n",
    "PIN = \"1964\"  \n",
    "\n",
    "grant_type = \"authorization_code\"\n",
    "response_type = \"code\"\n",
    "state = \"sample\"\n",
    "\n",
    "appSession = fyersModel.SessionModel(client_id=client_id, redirect_uri=redirect_uri, response_type=response_type, state=state, secret_key=secret_key, grant_type=grant_type)\n",
    "\n",
    "generateTokenUrl = appSession.generate_authcode()\n",
    "\n",
    "URL_SEND_LOGIN_OTP = \"https://api-t2.fyers.in/vagator/v2/send_login_otp_v2\"\n",
    "res = requests.post(url=URL_SEND_LOGIN_OTP, json={\"fy_id\": getEncodedString(FY_ID), \"app_id\": \"2\"}).json()\n",
    "\n",
    "if datetime.now().second % 30 > 27:\n",
    "    sleep(5)\n",
    "\n",
    "URL_VERIFY_OTP = \"https://api-t2.fyers.in/vagator/v2/verify_otp\"\n",
    "res2 = requests.post(url=URL_VERIFY_OTP, json={\"request_key\": res[\"request_key\"], \"otp\": pyotp.TOTP(TOTP_KEY).now()}).json()\n",
    "\n",
    "URL_VERIFY_OTP2 = \"https://api-t2.fyers.in/vagator/v2/verify_pin_v2\"\n",
    "payload2 = {\"request_key\": res2[\"request_key\"], \"identity_type\": \"pin\", \"identifier\": getEncodedString(PIN)}\n",
    "res3 = ses.post(url=URL_VERIFY_OTP2, json=payload2).json()\n",
    "\n",
    "ses.headers.update({'authorization': f\"Bearer {res3['data']['access_token']}\"})\n",
    "\n",
    "TOKENURL = \"https://api-t1.fyers.in/api/v3/token\"\n",
    "payload3 = {\"fyers_id\": FY_ID, \"app_id\": client_id[:-4], \"redirect_uri\": redirect_uri, \"appType\": \"100\",\n",
    "            \"code_challenge\": \"\", \"state\": \"None\", \"scope\": \"\", \"nonce\": \"\", \"response_type\": \"code\",\n",
    "            \"create_cookie\": True}\n",
    "res3 = ses.post(url=TOKENURL, json=payload3).json()\n",
    "\n",
    "url = res3['Url']\n",
    "parsed = urlparse(url)\n",
    "auth_code = parse_qs(parsed.query)['auth_code'][0]\n",
    "\n",
    "grant_type = \"authorization_code\"\n",
    "response_type = \"code\"\n",
    "session = fyersModel.SessionModel(client_id=client_id, secret_key=secret_key, redirect_uri=redirect_uri,\n",
    "                                 response_type=response_type, grant_type=grant_type)\n",
    "session.set_token(auth_code)\n",
    "response = session.generate_token()\n",
    "\n",
    "access_token = response['access_token']\n",
    "fyers = fyersModel.FyersModel(client_id=client_id, is_async=False, token=access_token, log_path=os.getcwd())\n",
    "\n",
    "fyers.get_profile()"
   ]
  },
  {
   "cell_type": "markdown",
   "id": "3f560a50",
   "metadata": {},
   "source": [
    "### Accessing Today Data"
   ]
  },
  {
   "cell_type": "code",
   "execution_count": 17,
   "id": "635f69fb",
   "metadata": {},
   "outputs": [],
   "source": [
    "historydata = pd.DataFrame()"
   ]
  },
  {
   "cell_type": "code",
   "execution_count": 18,
   "id": "cf77ebdb",
   "metadata": {},
   "outputs": [],
   "source": [
    "start_date = date.today() #date(2023,12,22)\n",
    "end_date = start_date"
   ]
  },
  {
   "cell_type": "code",
   "execution_count": 59,
   "id": "de2d520e",
   "metadata": {},
   "outputs": [
    {
     "name": "stdout",
     "output_type": "stream",
     "text": [
      "enter no of levels2\n",
      "enter level47700\n",
      "enter level47800\n"
     ]
    }
   ],
   "source": [
    "lvl=[]\n",
    "nolevel = int(input(\"enter no of levels\"))\n",
    "for i in range(nolevel):\n",
    "     lv = float(input(\"enter level\"))\n",
    "     lvl.append(lv)\n",
    "    \n",
    "#exp = str(input(\"enter exipy like NSE:BANKNIFTY23O04\"))"
   ]
  },
  {
   "cell_type": "code",
   "execution_count": 64,
   "id": "4cea51bf",
   "metadata": {},
   "outputs": [],
   "source": [
    "def gethistorydata(st,ed,res):\n",
    "    data = {\n",
    "            \"symbol\":\"NSE:NIFTYBANK-INDEX\",\n",
    "            \"resolution\":str(res),\n",
    "            \"date_format\":\"1\",\n",
    "            \"range_from\":start_date,\n",
    "            \"range_to\":end_date,\n",
    "            \"cont_flag\":\"0\"\n",
    "            }\n",
    "    global historydata\n",
    "    repo = fyers.history(data=data)\n",
    "    #print(repo)\n",
    "    data = pd.DataFrame.from_dict(repo['candles'])\n",
    "    #global cols\n",
    "    cols = ['datetime', 'open', 'high','low','close', 'volume']\n",
    "    data.columns = cols\n",
    "    \n",
    "    data['datetime'] = pd.to_datetime(data['datetime'],unit=\"s\")\n",
    "    data['datetime'] = data['datetime'].dt.tz_localize('utc').dt.tz_convert('Asia/Kolkata')\n",
    "    \n",
    "    #data = data.set_index('datetime')\n",
    "    historydata = data\n",
    "    historydata['datetime'] = pd.to_datetime(historydata['datetime'])\n",
    "\n",
    "    historydata['date'] = historydata['datetime'].dt.date\n",
    "    historydata['time'] = historydata['datetime'].dt.time\n",
    "\n",
    "    historydata.drop(columns=['datetime'], inplace=True)\n",
    "    historydata.drop(columns=['volume'], inplace=True)\n",
    "    \n",
    "    #append(historydata,data)],axis=0)\n",
    "    #historydata.to_csv(\"75op.csv\")\n",
    "    #print(historydata)"
   ]
  },
  {
   "cell_type": "markdown",
   "id": "2b3aecf9",
   "metadata": {},
   "source": [
    "### Plot Points"
   ]
  },
  {
   "cell_type": "code",
   "execution_count": 95,
   "id": "28ec3f6e",
   "metadata": {},
   "outputs": [],
   "source": [
    "def pointchecker(pt):\n",
    "    point_value = pt\n",
    "    for level in lvl:\n",
    "        points_in_range = points_within_range(level, arr)\n",
    "\n",
    "        # Check if the point value is within the range of this level's indices\n",
    "        if point_value in arr[points_in_range]:  # Access price values using arr\n",
    "        # print(\"The point with value\", point_value, \"is within the tolerance range of level\", level)\n",
    "            return True\n",
    "            break\n",
    "\n",
    "    else:\n",
    "           return False"
   ]
  },
  {
   "cell_type": "code",
   "execution_count": 60,
   "id": "968ae38d",
   "metadata": {},
   "outputs": [],
   "source": [
    "def plot_tolerance_range(level, arr, tolerance=30, color='lightblue', alpha=0.3):\n",
    "    lower_bound = level - tolerance\n",
    "    upper_bound = level + tolerance\n",
    "    plt.fill_between(range(len(arr)), lower_bound, upper_bound, color=color, alpha=alpha)"
   ]
  },
  {
   "cell_type": "code",
   "execution_count": 61,
   "id": "14ce46ea",
   "metadata": {},
   "outputs": [],
   "source": [
    "def plotpoints():   \n",
    "    plt.style.use('dark_background')\n",
    "   \n",
    "    # Extract the actual index values from the argrelextrema results\n",
    "    tops_indices = tops[0]\n",
    "    bottoms_indices = bottoms[0]\n",
    "\n",
    "    # Extract corresponding prices for plotting\n",
    "    tops_prices = arr[tops_indices]\n",
    "    bottoms_prices = arr[bottoms_indices]\n",
    "\n",
    "    # Create the plot\n",
    "    plt.figure(figsize=(12, 6))  # Adjust figure size as needed\n",
    "\n",
    "    # Plot the original price data\n",
    "    plt.plot(arr,color = '#8B8000',label='Closing Prices')\n",
    "\n",
    "    # Plot the tops as green horizontal lines\n",
    "    plt.hlines(tops_prices, xmin=tops_indices, xmax=tops_indices + 1, color='green', label='Tops')\n",
    "\n",
    "    # Plot the bottoms as red horizontal lines\n",
    "    plt.hlines(bottoms_prices, xmin=bottoms_indices, xmax=bottoms_indices + 1, color='red', label='Bottoms')\n",
    "    \n",
    "    plt.hlines(lvl, xmin=0, xmax=len(arr) - 1,color='#ADD8E6', label='Horizontal Levels')\n",
    "    \n",
    "\n",
    "    # Add labels and title\n",
    "    plt.xlabel('Time')\n",
    "    plt.ylabel('Price')\n",
    "    plt.title('Tops and Bottoms in Closing Prices')\n",
    "\n",
    "    # Add a legend\n",
    "    plt.legend()\n",
    "    for level in lvl:\n",
    "        plot_tolerance_range(level, arr)\n",
    "    # Show the plot\n",
    "    plt.show()"
   ]
  },
  {
   "cell_type": "markdown",
   "id": "8578662e",
   "metadata": {},
   "source": [
    "### Actions with current data"
   ]
  },
  {
   "cell_type": "code",
   "execution_count": 110,
   "id": "e2605522",
   "metadata": {},
   "outputs": [
    {
     "name": "stdout",
     "output_type": "stream",
     "text": [
      "{'type': 'cn', 'code': 200, 'message': 'Authentication done', 's': 'ok'}\n",
      "{'type': 'lit', 'code': 200, 'message': 'Lite Mode On', 's': 'ok'}\n",
      "{'type': 'sub', 'code': 200, 'message': 'Subscribed', 's': 'ok'}\n",
      "{'ltp': 47491.85, 'symbol': 'NSE:NIFTYBANK-INDEX', 'type': 'if'}\n"
     ]
    }
   ],
   "source": [
    "def onmessage(message):\n",
    "    print(message)\n",
    "    t = time.localtime()\n",
    "    cmin = time.strftime(\"%M\", t)\n",
    "\n",
    "    if (int(cmin) % 5 == 0):\n",
    "        gethistorydata(start_date,end_date,5)\n",
    "        print(\"candle added\")  \n",
    "    \n",
    "        arr = historydata['close'].to_numpy()\n",
    "        bottoms = scipy.signal.argrelextrema(arr, np.less, order=1)\n",
    "        tops = scipy.signal.argrelextrema(arr, np.greater, order=1)\n",
    "        ready=0\n",
    "        print(\"top & bottom generated\")\n",
    "        \n",
    "        point3 = historydata['low'][bottoms[0][-2]]\n",
    "        point2 = historydata['close'][tops[0][-1]]\n",
    "        point4 = historydata['close'][tops[0][-2]]\n",
    "        point1 = historydata['close'][bottoms[0][-1]]\n",
    "        \n",
    "        if(pointchecker(point3) == True and point2 < point4 and point1 < point2):\n",
    "            neck = historydata['low'][bottoms[0][-2]]\n",
    "            extra = ((historydata['low'][bottoms[0][-2]])*0.001) + historydata['low'][bottoms[0][-2]]\n",
    "            midline  = (neck + extra)/2 \n",
    "            sl = historydata['low'][bottoms[0][-2]]\n",
    "            target = historydata['close'][tops[0][-1]] \n",
    "            ready = 1\n",
    "            print(\"ready\")\n",
    "                                         \n",
    "        time.sleep(60)\n",
    "        \n",
    "    plotpoints() \n",
    "                                          \n",
    "        if(message['ltp']<=midline and ready == 1):\n",
    "            print(\"entry made on: \",message['ltp'])\n",
    "            entryprice = message['ltp']\n",
    "            entrytime = historydata.iloc[-1]['time']\n",
    "            entrydate = historydata.iloc[-1]['date']\n",
    "            status = 1\n",
    "        elif(status==1 and (message['ltp']>=target or message['ltp']<=sl)):    # message['ltp']>=rlvl\n",
    "            print(\"entry exited on: \",message['ltp'])\n",
    "            exitprice = message['ltp']\n",
    "            status = 0\n",
    "                                          \n",
    "            with open('w_backtest_report.csv', 'a', newline='') as csvfile:\n",
    "                writer = csv.writer(csvfile)\n",
    "                exitprice = message['ltp']\n",
    "                exittime = historydata.iloc[-1]['time']\n",
    "                exitdate = historydata.iloc[-1]['date']\n",
    "                pandl = exitprice-entryprice\n",
    "                new_row = [symbols[0],entrydate,entrytime,entryprice,exitdate,exittime,exitprice,pandl]\n",
    "                writer.writerow(new_row)\n",
    "                print(\"exported trade data\")\n",
    "                                          \n",
    "            data_type= \"SymbolUpdate\"\n",
    "            symbol_to_unsubscribe= ['NSE:NIFTYBANK-INDEX']\n",
    "            fyers.unsubscribe(symbols= symbol_to_unsubscribe, data_type = data_type)                              \n",
    "            print(\"unsubscribed\")    \n",
    "\n",
    "def onerror(message):\n",
    "    print(\"Error:\", message)\n",
    "\n",
    "\n",
    "def onclose(message):\n",
    "    print(\"Connection closed:\", message)\n",
    "\n",
    "\n",
    "def onopen():\n",
    "    data_type = \"SymbolUpdate\"\n",
    "\n",
    "    symbols = ['NSE:NIFTYBANK-INDEX']\n",
    "    wfyers.subscribe(symbols=symbols, data_type=data_type)\n",
    "    \n",
    "    wfyers.keep_running()\n",
    "\n",
    "\n",
    "waccess_token = cid+\":\"+tk \n",
    "\n",
    "wfyers = data_ws.FyersDataSocket(\n",
    "    access_token=waccess_token,       # Access token in the format \"appid:accesstoken\"\n",
    "    log_path=\"\",                     # Path to save logs. Leave empty to auto-create logs in the current directory.\n",
    "    litemode=True,                  # Lite mode disabled. Set to True if you want a lite response.\n",
    "    write_to_file=False,              # Save response in a log file instead of printing it.\n",
    "    reconnect=True,                  # Enable auto-reconnection to WebSocket on disconnection.\n",
    "    on_connect=onopen,               # Callback function to subscribe to data upon connection.\n",
    "    on_close=onclose,                # Callback function to handle WebSocket connection close events.\n",
    "    on_error=onerror,                # Callback function to handle WebSocket errors.\n",
    "    on_message=onmessage            # Callback function to handle incoming messages from the WebSocket.\n",
    ")\n",
    "\n",
    "wfyers.connect()"
   ]
  },
  {
   "cell_type": "code",
   "execution_count": null,
   "id": "1cb90403",
   "metadata": {},
   "outputs": [],
   "source": []
  }
 ],
 "metadata": {
  "kernelspec": {
   "display_name": "Python 3 (ipykernel)",
   "language": "python",
   "name": "python3"
  },
  "language_info": {
   "codemirror_mode": {
    "name": "ipython",
    "version": 3
   },
   "file_extension": ".py",
   "mimetype": "text/x-python",
   "name": "python",
   "nbconvert_exporter": "python",
   "pygments_lexer": "ipython3",
   "version": "3.10.9"
  }
 },
 "nbformat": 4,
 "nbformat_minor": 5
}
