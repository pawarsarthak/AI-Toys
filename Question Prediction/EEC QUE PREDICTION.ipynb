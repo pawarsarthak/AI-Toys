{
 "cells": [
  {
   "cell_type": "code",
   "execution_count": 4,
   "id": "8e7412a0",
   "metadata": {},
   "outputs": [
    {
     "name": "stdout",
     "output_type": "stream",
     "text": [
      "Collecting imbalanced-learn\n",
      "  Downloading imbalanced_learn-0.10.1-py3-none-any.whl (226 kB)\n",
      "     -------------------------------------- 226.0/226.0 kB 3.5 MB/s eta 0:00:00\n",
      "Collecting joblib>=1.1.1\n",
      "  Downloading joblib-1.2.0-py3-none-any.whl (297 kB)\n",
      "     -------------------------------------- 298.0/298.0 kB 3.1 MB/s eta 0:00:00\n",
      "Requirement already satisfied: numpy>=1.17.3 in c:\\users\\user\\anaconda3\\lib\\site-packages (from imbalanced-learn) (1.21.5)\n",
      "Requirement already satisfied: scikit-learn>=1.0.2 in c:\\users\\user\\anaconda3\\lib\\site-packages (from imbalanced-learn) (1.0.2)\n",
      "Requirement already satisfied: threadpoolctl>=2.0.0 in c:\\users\\user\\anaconda3\\lib\\site-packages (from imbalanced-learn) (2.2.0)\n",
      "Requirement already satisfied: scipy>=1.3.2 in c:\\users\\user\\anaconda3\\lib\\site-packages (from imbalanced-learn) (1.9.1)\n",
      "Installing collected packages: joblib, imbalanced-learn\n",
      "  Attempting uninstall: joblib\n",
      "    Found existing installation: joblib 1.1.0\n",
      "    Uninstalling joblib-1.1.0:\n",
      "      Successfully uninstalled joblib-1.1.0\n",
      "Successfully installed imbalanced-learn-0.10.1 joblib-1.2.0\n",
      "Note: you may need to restart the kernel to use updated packages.\n"
     ]
    }
   ],
   "source": [
    "pip install -U imbalanced-learn"
   ]
  },
  {
   "cell_type": "code",
   "execution_count": 1,
   "id": "0d52b35d",
   "metadata": {},
   "outputs": [],
   "source": [
    "# importing required liabraries\n",
    "import pandas as pd\n",
    "import numpy as np\n",
    "import matplotlib.pyplot as plt\n",
    "import seaborn as sns\n",
    "import scipy.stats as st\n",
    "import sklearn\n",
    "\n",
    "from sklearn.preprocessing import LabelEncoder\n",
    "from statsmodels.stats.outliers_influence import variance_inflation_factor\n",
    "from scipy.stats import zscore\n",
    "from sklearn.preprocessing import StandardScaler\n",
    "from imblearn.over_sampling import SMOTE\n",
    "\n",
    "from sklearn.model_selection import train_test_split,GridSearchCV,cross_val_score\n",
    "from sklearn.metrics import accuracy_score,confusion_matrix,classification_report\n",
    "\n",
    "from sklearn.linear_model import LogisticRegression\n",
    "from sklearn.neighbors import KNeighborsClassifier\n",
    "from sklearn.tree import DecisionTreeClassifier\n",
    "from sklearn.svm import SVC\n",
    "\n",
    "from sklearn.ensemble import RandomForestClassifier,GradientBoostingClassifier,AdaBoostClassifier,VotingClassifier\n",
    "\n",
    "\n",
    "import joblib"
   ]
  },
  {
   "cell_type": "code",
   "execution_count": 2,
   "id": "6ec31c0d",
   "metadata": {},
   "outputs": [],
   "source": [
    "pd.set_option('display.max_rows', None)\n",
    "pd.set_option('display.max_columns', None)"
   ]
  },
  {
   "cell_type": "code",
   "execution_count": 3,
   "id": "eaa6aa85",
   "metadata": {},
   "outputs": [],
   "source": [
    "# screen reset code\n",
    "# pd.reset_option(\"max_columns\")"
   ]
  },
  {
   "cell_type": "code",
   "execution_count": 2,
   "id": "6b593db8",
   "metadata": {},
   "outputs": [],
   "source": [
    "# importing dataset\n",
    "file = pd.read_csv(\"EEC QUE ANALYSIS.csv\")"
   ]
  },
  {
   "cell_type": "code",
   "execution_count": 3,
   "id": "356ae34b",
   "metadata": {},
   "outputs": [
    {
     "data": {
      "text/html": [
       "<div>\n",
       "<style scoped>\n",
       "    .dataframe tbody tr th:only-of-type {\n",
       "        vertical-align: middle;\n",
       "    }\n",
       "\n",
       "    .dataframe tbody tr th {\n",
       "        vertical-align: top;\n",
       "    }\n",
       "\n",
       "    .dataframe thead th {\n",
       "        text-align: right;\n",
       "    }\n",
       "</style>\n",
       "<table border=\"1\" class=\"dataframe\">\n",
       "  <thead>\n",
       "    <tr style=\"text-align: right;\">\n",
       "      <th></th>\n",
       "      <th>YEAR</th>\n",
       "      <th>QUE</th>\n",
       "      <th>SUB-QUE</th>\n",
       "      <th>MARKS</th>\n",
       "      <th>UNIT</th>\n",
       "      <th>TOPIC-NO</th>\n",
       "      <th>TOPIC</th>\n",
       "    </tr>\n",
       "  </thead>\n",
       "  <tbody>\n",
       "    <tr>\n",
       "      <th>0</th>\n",
       "      <td>2022</td>\n",
       "      <td>1</td>\n",
       "      <td>a</td>\n",
       "      <td>2</td>\n",
       "      <td>1</td>\n",
       "      <td>1.3</td>\n",
       "      <td>Series and parallel magnetic circuits</td>\n",
       "    </tr>\n",
       "    <tr>\n",
       "      <th>1</th>\n",
       "      <td>2022</td>\n",
       "      <td>1</td>\n",
       "      <td>b</td>\n",
       "      <td>2</td>\n",
       "      <td>2</td>\n",
       "      <td>2.2</td>\n",
       "      <td>Single phase A.C. sinusoidal A.C. wave: instan...</td>\n",
       "    </tr>\n",
       "    <tr>\n",
       "      <th>2</th>\n",
       "      <td>2022</td>\n",
       "      <td>1</td>\n",
       "      <td>c</td>\n",
       "      <td>2</td>\n",
       "      <td>3</td>\n",
       "      <td>3.3</td>\n",
       "      <td>Phase sequence and balanced and unbalanced load</td>\n",
       "    </tr>\n",
       "    <tr>\n",
       "      <th>3</th>\n",
       "      <td>2022</td>\n",
       "      <td>1</td>\n",
       "      <td>d</td>\n",
       "      <td>2</td>\n",
       "      <td>4</td>\n",
       "      <td>4.1</td>\n",
       "      <td>Transformer: Working principle, emf equation, ...</td>\n",
       "    </tr>\n",
       "    <tr>\n",
       "      <th>4</th>\n",
       "      <td>2022</td>\n",
       "      <td>1</td>\n",
       "      <td>e</td>\n",
       "      <td>2</td>\n",
       "      <td>4</td>\n",
       "      <td>4.5</td>\n",
       "      <td>Types of D.C. motors, schematic diagram, 1,  s...</td>\n",
       "    </tr>\n",
       "    <tr>\n",
       "      <th>...</th>\n",
       "      <td>...</td>\n",
       "      <td>...</td>\n",
       "      <td>...</td>\n",
       "      <td>...</td>\n",
       "      <td>...</td>\n",
       "      <td>...</td>\n",
       "      <td>...</td>\n",
       "    </tr>\n",
       "    <tr>\n",
       "      <th>125</th>\n",
       "      <td>2019</td>\n",
       "      <td>5</td>\n",
       "      <td>b</td>\n",
       "      <td>6</td>\n",
       "      <td>3</td>\n",
       "      <td>3.4</td>\n",
       "      <td>Phase and line current, phase and line voltage...</td>\n",
       "    </tr>\n",
       "    <tr>\n",
       "      <th>126</th>\n",
       "      <td>2019</td>\n",
       "      <td>5</td>\n",
       "      <td>c</td>\n",
       "      <td>6</td>\n",
       "      <td>4</td>\n",
       "      <td>4.5</td>\n",
       "      <td>Types of D.C. motors, schematic diagram, 1,  s...</td>\n",
       "    </tr>\n",
       "    <tr>\n",
       "      <th>127</th>\n",
       "      <td>2019</td>\n",
       "      <td>6</td>\n",
       "      <td>a</td>\n",
       "      <td>6</td>\n",
       "      <td>5</td>\n",
       "      <td>5.3</td>\n",
       "      <td>Stepper motor: types, principle of working and...</td>\n",
       "    </tr>\n",
       "    <tr>\n",
       "      <th>128</th>\n",
       "      <td>2019</td>\n",
       "      <td>6</td>\n",
       "      <td>b</td>\n",
       "      <td>6</td>\n",
       "      <td>6</td>\n",
       "      <td>6.4</td>\n",
       "      <td>Earthing:  Importance of earthing, factors aff...</td>\n",
       "    </tr>\n",
       "    <tr>\n",
       "      <th>129</th>\n",
       "      <td>2019</td>\n",
       "      <td>6</td>\n",
       "      <td>c</td>\n",
       "      <td>6</td>\n",
       "      <td>6</td>\n",
       "      <td>6.3</td>\n",
       "      <td>MCB, MCCB and ELCB: Operation and general spec...</td>\n",
       "    </tr>\n",
       "  </tbody>\n",
       "</table>\n",
       "<p>130 rows × 7 columns</p>\n",
       "</div>"
      ],
      "text/plain": [
       "     YEAR  QUE SUB-QUE  MARKS  UNIT  TOPIC-NO  \\\n",
       "0    2022    1       a      2     1       1.3   \n",
       "1    2022    1       b      2     2       2.2   \n",
       "2    2022    1       c      2     3       3.3   \n",
       "3    2022    1       d      2     4       4.1   \n",
       "4    2022    1       e      2     4       4.5   \n",
       "..    ...  ...     ...    ...   ...       ...   \n",
       "125  2019    5       b      6     3       3.4   \n",
       "126  2019    5       c      6     4       4.5   \n",
       "127  2019    6       a      6     5       5.3   \n",
       "128  2019    6       b      6     6       6.4   \n",
       "129  2019    6       c      6     6       6.3   \n",
       "\n",
       "                                                 TOPIC  \n",
       "0                Series and parallel magnetic circuits  \n",
       "1    Single phase A.C. sinusoidal A.C. wave: instan...  \n",
       "2      Phase sequence and balanced and unbalanced load  \n",
       "3    Transformer: Working principle, emf equation, ...  \n",
       "4    Types of D.C. motors, schematic diagram, 1,  s...  \n",
       "..                                                 ...  \n",
       "125  Phase and line current, phase and line voltage...  \n",
       "126  Types of D.C. motors, schematic diagram, 1,  s...  \n",
       "127  Stepper motor: types, principle of working and...  \n",
       "128  Earthing:  Importance of earthing, factors aff...  \n",
       "129  MCB, MCCB and ELCB: Operation and general spec...  \n",
       "\n",
       "[130 rows x 7 columns]"
      ]
     },
     "execution_count": 3,
     "metadata": {},
     "output_type": "execute_result"
    }
   ],
   "source": [
    "file"
   ]
  },
  {
   "cell_type": "code",
   "execution_count": 4,
   "id": "a176886d",
   "metadata": {},
   "outputs": [],
   "source": [
    "# storing csv file in dataframe\n",
    "df = pd.DataFrame(file)"
   ]
  },
  {
   "cell_type": "code",
   "execution_count": 5,
   "id": "9f925218",
   "metadata": {},
   "outputs": [
    {
     "data": {
      "text/html": [
       "<div>\n",
       "<style scoped>\n",
       "    .dataframe tbody tr th:only-of-type {\n",
       "        vertical-align: middle;\n",
       "    }\n",
       "\n",
       "    .dataframe tbody tr th {\n",
       "        vertical-align: top;\n",
       "    }\n",
       "\n",
       "    .dataframe thead th {\n",
       "        text-align: right;\n",
       "    }\n",
       "</style>\n",
       "<table border=\"1\" class=\"dataframe\">\n",
       "  <thead>\n",
       "    <tr style=\"text-align: right;\">\n",
       "      <th></th>\n",
       "      <th>YEAR</th>\n",
       "      <th>QUE</th>\n",
       "      <th>SUB-QUE</th>\n",
       "      <th>MARKS</th>\n",
       "      <th>UNIT</th>\n",
       "      <th>TOPIC-NO</th>\n",
       "      <th>TOPIC</th>\n",
       "    </tr>\n",
       "  </thead>\n",
       "  <tbody>\n",
       "    <tr>\n",
       "      <th>0</th>\n",
       "      <td>2022</td>\n",
       "      <td>1</td>\n",
       "      <td>a</td>\n",
       "      <td>2</td>\n",
       "      <td>1</td>\n",
       "      <td>1.3</td>\n",
       "      <td>Series and parallel magnetic circuits</td>\n",
       "    </tr>\n",
       "    <tr>\n",
       "      <th>1</th>\n",
       "      <td>2022</td>\n",
       "      <td>1</td>\n",
       "      <td>b</td>\n",
       "      <td>2</td>\n",
       "      <td>2</td>\n",
       "      <td>2.2</td>\n",
       "      <td>Single phase A.C. sinusoidal A.C. wave: instan...</td>\n",
       "    </tr>\n",
       "    <tr>\n",
       "      <th>2</th>\n",
       "      <td>2022</td>\n",
       "      <td>1</td>\n",
       "      <td>c</td>\n",
       "      <td>2</td>\n",
       "      <td>3</td>\n",
       "      <td>3.3</td>\n",
       "      <td>Phase sequence and balanced and unbalanced load</td>\n",
       "    </tr>\n",
       "    <tr>\n",
       "      <th>3</th>\n",
       "      <td>2022</td>\n",
       "      <td>1</td>\n",
       "      <td>d</td>\n",
       "      <td>2</td>\n",
       "      <td>4</td>\n",
       "      <td>4.1</td>\n",
       "      <td>Transformer: Working principle, emf equation, ...</td>\n",
       "    </tr>\n",
       "    <tr>\n",
       "      <th>4</th>\n",
       "      <td>2022</td>\n",
       "      <td>1</td>\n",
       "      <td>e</td>\n",
       "      <td>2</td>\n",
       "      <td>4</td>\n",
       "      <td>4.5</td>\n",
       "      <td>Types of D.C. motors, schematic diagram, 1,  s...</td>\n",
       "    </tr>\n",
       "  </tbody>\n",
       "</table>\n",
       "</div>"
      ],
      "text/plain": [
       "   YEAR  QUE SUB-QUE  MARKS  UNIT  TOPIC-NO  \\\n",
       "0  2022    1       a      2     1       1.3   \n",
       "1  2022    1       b      2     2       2.2   \n",
       "2  2022    1       c      2     3       3.3   \n",
       "3  2022    1       d      2     4       4.1   \n",
       "4  2022    1       e      2     4       4.5   \n",
       "\n",
       "                                               TOPIC  \n",
       "0              Series and parallel magnetic circuits  \n",
       "1  Single phase A.C. sinusoidal A.C. wave: instan...  \n",
       "2    Phase sequence and balanced and unbalanced load  \n",
       "3  Transformer: Working principle, emf equation, ...  \n",
       "4  Types of D.C. motors, schematic diagram, 1,  s...  "
      ]
     },
     "execution_count": 5,
     "metadata": {},
     "output_type": "execute_result"
    }
   ],
   "source": [
    "df.head()"
   ]
  },
  {
   "cell_type": "markdown",
   "id": "acfd5160",
   "metadata": {},
   "source": [
    "\n",
    "# EDA"
   ]
  },
  {
   "cell_type": "code",
   "execution_count": 8,
   "id": "9f0415ff",
   "metadata": {},
   "outputs": [
    {
     "data": {
      "text/plain": [
       "(130, 7)"
      ]
     },
     "execution_count": 8,
     "metadata": {},
     "output_type": "execute_result"
    }
   ],
   "source": [
    "# cheking size of df\n",
    "df.shape"
   ]
  },
  {
   "cell_type": "raw",
   "id": "a47cd434",
   "metadata": {},
   "source": [
    "No null values bcoz data is also entered by me"
   ]
  },
  {
   "cell_type": "code",
   "execution_count": 9,
   "id": "c92576d8",
   "metadata": {},
   "outputs": [
    {
     "data": {
      "text/html": [
       "<div>\n",
       "<style scoped>\n",
       "    .dataframe tbody tr th:only-of-type {\n",
       "        vertical-align: middle;\n",
       "    }\n",
       "\n",
       "    .dataframe tbody tr th {\n",
       "        vertical-align: top;\n",
       "    }\n",
       "\n",
       "    .dataframe thead th {\n",
       "        text-align: right;\n",
       "    }\n",
       "</style>\n",
       "<table border=\"1\" class=\"dataframe\">\n",
       "  <thead>\n",
       "    <tr style=\"text-align: right;\">\n",
       "      <th></th>\n",
       "      <th>YEAR</th>\n",
       "      <th>QUE</th>\n",
       "      <th>MARKS</th>\n",
       "      <th>UNIT</th>\n",
       "      <th>TOPIC-NO</th>\n",
       "    </tr>\n",
       "  </thead>\n",
       "  <tbody>\n",
       "    <tr>\n",
       "      <th>count</th>\n",
       "      <td>130.000000</td>\n",
       "      <td>130.000000</td>\n",
       "      <td>130.000000</td>\n",
       "      <td>130.000000</td>\n",
       "      <td>130.000000</td>\n",
       "    </tr>\n",
       "    <tr>\n",
       "      <th>mean</th>\n",
       "      <td>2019.600000</td>\n",
       "      <td>3.076923</td>\n",
       "      <td>3.923077</td>\n",
       "      <td>3.700000</td>\n",
       "      <td>3.988462</td>\n",
       "    </tr>\n",
       "    <tr>\n",
       "      <th>std</th>\n",
       "      <td>1.361713</td>\n",
       "      <td>1.714577</td>\n",
       "      <td>1.417583</td>\n",
       "      <td>1.687391</td>\n",
       "      <td>1.684477</td>\n",
       "    </tr>\n",
       "    <tr>\n",
       "      <th>min</th>\n",
       "      <td>2018.000000</td>\n",
       "      <td>1.000000</td>\n",
       "      <td>2.000000</td>\n",
       "      <td>1.000000</td>\n",
       "      <td>1.100000</td>\n",
       "    </tr>\n",
       "    <tr>\n",
       "      <th>25%</th>\n",
       "      <td>2019.000000</td>\n",
       "      <td>1.000000</td>\n",
       "      <td>2.000000</td>\n",
       "      <td>2.000000</td>\n",
       "      <td>2.325000</td>\n",
       "    </tr>\n",
       "    <tr>\n",
       "      <th>50%</th>\n",
       "      <td>2019.000000</td>\n",
       "      <td>3.000000</td>\n",
       "      <td>4.000000</td>\n",
       "      <td>4.000000</td>\n",
       "      <td>4.200000</td>\n",
       "    </tr>\n",
       "    <tr>\n",
       "      <th>75%</th>\n",
       "      <td>2020.000000</td>\n",
       "      <td>4.000000</td>\n",
       "      <td>4.000000</td>\n",
       "      <td>5.000000</td>\n",
       "      <td>5.200000</td>\n",
       "    </tr>\n",
       "    <tr>\n",
       "      <th>max</th>\n",
       "      <td>2022.000000</td>\n",
       "      <td>6.000000</td>\n",
       "      <td>6.000000</td>\n",
       "      <td>6.000000</td>\n",
       "      <td>6.500000</td>\n",
       "    </tr>\n",
       "  </tbody>\n",
       "</table>\n",
       "</div>"
      ],
      "text/plain": [
       "              YEAR         QUE       MARKS        UNIT    TOPIC-NO\n",
       "count   130.000000  130.000000  130.000000  130.000000  130.000000\n",
       "mean   2019.600000    3.076923    3.923077    3.700000    3.988462\n",
       "std       1.361713    1.714577    1.417583    1.687391    1.684477\n",
       "min    2018.000000    1.000000    2.000000    1.000000    1.100000\n",
       "25%    2019.000000    1.000000    2.000000    2.000000    2.325000\n",
       "50%    2019.000000    3.000000    4.000000    4.000000    4.200000\n",
       "75%    2020.000000    4.000000    4.000000    5.000000    5.200000\n",
       "max    2022.000000    6.000000    6.000000    6.000000    6.500000"
      ]
     },
     "execution_count": 9,
     "metadata": {},
     "output_type": "execute_result"
    }
   ],
   "source": [
    "df.describe()"
   ]
  },
  {
   "cell_type": "code",
   "execution_count": 10,
   "id": "50127e86",
   "metadata": {},
   "outputs": [
    {
     "data": {
      "text/plain": [
       "30"
      ]
     },
     "execution_count": 10,
     "metadata": {},
     "output_type": "execute_result"
    }
   ],
   "source": [
    "# checking total numbers of topics asked from 2017-2022 \n",
    "df['TOPIC'].nunique()"
   ]
  },
  {
   "cell_type": "code",
   "execution_count": 11,
   "id": "18ed753d",
   "metadata": {},
   "outputs": [
    {
     "data": {
      "text/plain": [
       "4.333333333333333"
      ]
     },
     "execution_count": 11,
     "metadata": {},
     "output_type": "execute_result"
    }
   ],
   "source": [
    "130/30"
   ]
  },
  {
   "cell_type": "raw",
   "id": "fff24f8d",
   "metadata": {},
   "source": [
    "It means each topic has came 4 times from 5 years\n",
    "*** means all 30 topics can be asked in exam ***"
   ]
  },
  {
   "cell_type": "code",
   "execution_count": 9,
   "id": "f0b4fdbd",
   "metadata": {},
   "outputs": [],
   "source": [
    "# storing topic numbers in array so that avg can be calculated\n",
    "topics_array = np.array(df[\"TOPIC-NO\"])"
   ]
  },
  {
   "cell_type": "code",
   "execution_count": 10,
   "id": "c1678f9a",
   "metadata": {},
   "outputs": [
    {
     "name": "stdout",
     "output_type": "stream",
     "text": [
      "3.9884615384615385\n"
     ]
    }
   ],
   "source": [
    "unit_avg = np.mean(topics_array)\n",
    "print(unit_avg)"
   ]
  },
  {
   "cell_type": "raw",
   "id": "8d3a98dd",
   "metadata": {},
   "source": [
    "almost 4 topics in unit"
   ]
  },
  {
   "cell_type": "code",
   "execution_count": 11,
   "id": "bf0e5ffb",
   "metadata": {},
   "outputs": [
    {
     "data": {
      "text/plain": [
       "23.93076923076923"
      ]
     },
     "execution_count": 11,
     "metadata": {},
     "output_type": "execute_result"
    }
   ],
   "source": [
    "6*unit_avg"
   ]
  },
  {
   "cell_type": "raw",
   "id": "7b5a0b4f",
   "metadata": {},
   "source": [
    "4/5 topics are repeated from same unit"
   ]
  },
  {
   "cell_type": "code",
   "execution_count": 12,
   "id": "e230c7af",
   "metadata": {},
   "outputs": [
    {
     "name": "stdout",
     "output_type": "stream",
     "text": [
      "['Series and parallel magnetic circuits'\n",
      " 'Single phase A.C. sinusoidal A.C. wave: instantaneous value, cycle, amplitude, time period, frequency, angular frequency, R.M.S. value, Average value for sinusoidal waveform, Form factor, Peak factor'\n",
      " 'Phase sequence and balanced and unbalanced load'\n",
      " 'Transformer: Working principle, emf equation, Voltage ratio, current ratio and transformation ratio, losses'\n",
      " 'Types of D.C. motors, schematic diagram, 1,  series and compound motors'\n",
      " 'Stepper motor: types, principle of working and applications'\n",
      " 'Earthing:  Importance of earthing, factors affecting earthing'\n",
      " 'B-H curve and hysteresis, hysteresis loop and hysteresis loss.'\n",
      " 'Current, power, power factor in a 3 phase balanced system'\n",
      " 'Auto-transformer - comparison with two winding transformer, applications'\n",
      " 'Magnetic flux, flux density, magneto motive force, magnetic field strength, permeability, reluctance'\n",
      " 'DC motor construction - parts its function and material used'\n",
      " 'FHP: Schematic representation, principle of operation and applications of: split phase Induction motor, capacitor start induction run. capacitor start capacitor run and permanent capacitor motors, shaded pole motors'\n",
      " 'Methods of reducing earth resistance, LE rules relevant to earthing'\n",
      " 'Universal motor: principle of operation. reversal of rotation and applications'\n",
      " 'Fuse: Operation, types'\n",
      " 'Pure resistance, inductance and capacitance in A.C. circuit'\n",
      " 'MCB, MCCB and ELCB: Operation and general specifications'\n",
      " \"Faraday's laws of electromagnetic induction, Fleming's right hand rule, induction, Fleming's right hand rule, Lenz's law L5  Dynamically and statically induced emf, self and mutual inductance\"\n",
      " 'Vector representation of sinusoidal A.C. quantity, Phase angle, phase difference, concept of lagging and leading - by waveforms, mathematical equations and phasors'\n",
      " '3 phase system over 1 phase system'\n",
      " 'Phase and line current, phase and line voltage in star connected and delta connected balanced system'\n",
      " 'DC motor construction - parts its function and material used '\n",
      " 'Dynamically and statically induced emf, self and mutual inductance'\n",
      " 'A.C, and D.C. quantity, advantages of A.C. over D.C.'\n",
      " '3-phase emf generation and its wave form' 'Star and delta connections'\n",
      " 'DC motor -Principle of operation'\n",
      " 'Power - active, reactive and apparent, power triangle'\n",
      " 'Electric and magnetic circuits']\n"
     ]
    }
   ],
   "source": [
    "# checking names of topics\n",
    "print(df['TOPIC'].unique())"
   ]
  },
  {
   "cell_type": "markdown",
   "id": "cc79a73d",
   "metadata": {},
   "source": [
    "### Data Visualization"
   ]
  },
  {
   "cell_type": "code",
   "execution_count": 13,
   "id": "c9f44edf",
   "metadata": {},
   "outputs": [
    {
     "data": {
      "text/plain": [
       "Index(['YEAR', 'QUE', 'SUB-QUE', 'MARKS', 'UNIT', 'TOPIC-NO', 'TOPIC'], dtype='object')"
      ]
     },
     "execution_count": 13,
     "metadata": {},
     "output_type": "execute_result"
    }
   ],
   "source": [
    "df.columns"
   ]
  },
  {
   "cell_type": "code",
   "execution_count": 14,
   "id": "05a12bdb",
   "metadata": {},
   "outputs": [],
   "source": [
    "# setting whitegrid theme`\n",
    "sns.set_theme(style=\"whitegrid\")"
   ]
  },
  {
   "cell_type": "code",
   "execution_count": 15,
   "id": "4447232c",
   "metadata": {},
   "outputs": [
    {
     "data": {
      "text/plain": [
       "<AxesSubplot:xlabel='UNIT', ylabel='Count'>"
      ]
     },
     "execution_count": 15,
     "metadata": {},
     "output_type": "execute_result"
    },
    {
     "data": {
      "image/png": "[encoded data removed]",
      "text/plain": [
       "<Figure size 640x480 with 1 Axes>"
      ]
     },
     "metadata": {},
     "output_type": "display_data"
    }
   ],
   "source": [
    "# checking \n",
    "sns.histplot(df[\"UNIT\"])"
   ]
  },
  {
   "cell_type": "raw",
   "id": "311fb606",
   "metadata": {},
   "source": [
    "Most Asked Question is from 4th unit"
   ]
  },
  {
   "cell_type": "code",
   "execution_count": 142,
   "id": "cbfd2fd9",
   "metadata": {},
   "outputs": [
    {
     "data": {
      "text/plain": [
       "[<matplotlib.axis.YTick at 0x231f6e33d00>,\n",
       " <matplotlib.axis.YTick at 0x231f6e336a0>,\n",
       " <matplotlib.axis.YTick at 0x231f7ffb220>,\n",
       " <matplotlib.axis.YTick at 0x231f7031610>,\n",
       " <matplotlib.axis.YTick at 0x231f7ff0c40>,\n",
       " <matplotlib.axis.YTick at 0x231f704db20>,\n",
       " <matplotlib.axis.YTick at 0x231f7390130>,\n",
       " <matplotlib.axis.YTick at 0x231f73908e0>,\n",
       " <matplotlib.axis.YTick at 0x231f7fe7c40>,\n",
       " <matplotlib.axis.YTick at 0x231f7390880>,\n",
       " <matplotlib.axis.YTick at 0x231f704d7c0>]"
      ]
     },
     "execution_count": 142,
     "metadata": {},
     "output_type": "execute_result"
    },
    {
     "data": {
      "image/png": "[encoded data removed]",
      "text/plain": [
       "<Figure size 1500x500 with 1 Axes>"
      ]
     },
     "metadata": {},
     "output_type": "display_data"
    }
   ],
   "source": [
    "plt.figure(figsize=(15,5))\n",
    "sns.countplot(df[\"TOPIC-NO\"]).set_yticks([0,1,2,3,4,5,6,7,8,9,10])    # settled custom y axis using yticks"
   ]
  },
  {
   "cell_type": "raw",
   "id": "f29fc9ab",
   "metadata": {},
   "source": [
    "Same weightage topics:\n",
    "  \n",
    "  Freq   | Topics  \n",
    "    1    = (2.8, 3.6, 4.4)\n",
    "    2    = (1.3, 1.5, 3.2, 3.5)\n",
    "    3    = (1.6, 2.1, 2.3, 2.4, 3.1, 3.3)\n",
    "    \n",
    "-------------------------------------------------------------------------------------------------------------------------------\n",
    "    \n",
    "    4    = (1.1, 1.2, 3.4, 6.5)\n",
    "    5    = (1.4, 5.3)    \n",
    "    6    = (4.3,4.5,6.3)                                                              <-- IMP Topics\n",
    "    7    = (2.2, 6.1, 6.4)\n",
    "    8    = (4.1)\n",
    "    9    = (4.2, 5.1)\n",
    "    10   = (5.2)"
   ]
  },
  {
   "cell_type": "markdown",
   "id": "8ffb886e",
   "metadata": {},
   "source": [
    "tried to automate writing above observation"
   ]
  },
  {
   "cell_type": "code",
   "execution_count": 143,
   "id": "e2777f8d",
   "metadata": {},
   "outputs": [],
   "source": [
    "# #checking frquency of each topic\n",
    "# topic_no_freq = df[\"TOPIC-NO\"].value_counts()\n",
    "# topic_no_freq_df = pd.DataFrame(topic_no_freq)\n",
    "# #cdumped to csv to rename header and index\n",
    "# topic_no_freq_csv = topic_no_freq_df.to_csv()"
   ]
  },
  {
   "cell_type": "code",
   "execution_count": 144,
   "id": "af545713",
   "metadata": {},
   "outputs": [],
   "source": [
    "# # importing,renaming that csv\n",
    "# topic_no_freq_df = pd.read_csv(topic_no_freq_csv,header = None, names = ['TOPIC-NO','FREQ'])"
   ]
  },
  {
   "cell_type": "code",
   "execution_count": 213,
   "id": "fae5ed03",
   "metadata": {},
   "outputs": [
    {
     "data": {
      "text/plain": [
       "Index(['YEAR', 'QUE', 'SUB-QUE', 'MARKS', 'UNIT', 'TOPIC-NO', 'TOPIC'], dtype='object')"
      ]
     },
     "execution_count": 213,
     "metadata": {},
     "output_type": "execute_result"
    }
   ],
   "source": [
    "df.columns"
   ]
  },
  {
   "cell_type": "code",
   "execution_count": 214,
   "id": "0d8c76ea",
   "metadata": {},
   "outputs": [
    {
     "data": {
      "text/html": [
       "<div>\n",
       "<style scoped>\n",
       "    .dataframe tbody tr th:only-of-type {\n",
       "        vertical-align: middle;\n",
       "    }\n",
       "\n",
       "    .dataframe tbody tr th {\n",
       "        vertical-align: top;\n",
       "    }\n",
       "\n",
       "    .dataframe thead th {\n",
       "        text-align: right;\n",
       "    }\n",
       "</style>\n",
       "<table border=\"1\" class=\"dataframe\">\n",
       "  <thead>\n",
       "    <tr style=\"text-align: right;\">\n",
       "      <th></th>\n",
       "      <th>YEAR</th>\n",
       "      <th>QUE</th>\n",
       "      <th>SUB-QUE</th>\n",
       "      <th>MARKS</th>\n",
       "      <th>UNIT</th>\n",
       "      <th>TOPIC-NO</th>\n",
       "      <th>TOPIC</th>\n",
       "    </tr>\n",
       "  </thead>\n",
       "  <tbody>\n",
       "    <tr>\n",
       "      <th>0</th>\n",
       "      <td>2022</td>\n",
       "      <td>1</td>\n",
       "      <td>a</td>\n",
       "      <td>2</td>\n",
       "      <td>1</td>\n",
       "      <td>1.3</td>\n",
       "      <td>Series and parallel magnetic circuits</td>\n",
       "    </tr>\n",
       "    <tr>\n",
       "      <th>1</th>\n",
       "      <td>2022</td>\n",
       "      <td>1</td>\n",
       "      <td>b</td>\n",
       "      <td>2</td>\n",
       "      <td>2</td>\n",
       "      <td>2.2</td>\n",
       "      <td>Single phase A.C. sinusoidal A.C. wave: instan...</td>\n",
       "    </tr>\n",
       "    <tr>\n",
       "      <th>2</th>\n",
       "      <td>2022</td>\n",
       "      <td>1</td>\n",
       "      <td>c</td>\n",
       "      <td>2</td>\n",
       "      <td>3</td>\n",
       "      <td>3.3</td>\n",
       "      <td>Phase sequence and balanced and unbalanced load</td>\n",
       "    </tr>\n",
       "    <tr>\n",
       "      <th>3</th>\n",
       "      <td>2022</td>\n",
       "      <td>1</td>\n",
       "      <td>d</td>\n",
       "      <td>2</td>\n",
       "      <td>4</td>\n",
       "      <td>4.1</td>\n",
       "      <td>Transformer: Working principle, emf equation, ...</td>\n",
       "    </tr>\n",
       "    <tr>\n",
       "      <th>4</th>\n",
       "      <td>2022</td>\n",
       "      <td>1</td>\n",
       "      <td>e</td>\n",
       "      <td>2</td>\n",
       "      <td>4</td>\n",
       "      <td>4.5</td>\n",
       "      <td>Types of D.C. motors, schematic diagram, 1,  s...</td>\n",
       "    </tr>\n",
       "  </tbody>\n",
       "</table>\n",
       "</div>"
      ],
      "text/plain": [
       "   YEAR  QUE SUB-QUE  MARKS  UNIT  TOPIC-NO  \\\n",
       "0  2022    1       a      2     1       1.3   \n",
       "1  2022    1       b      2     2       2.2   \n",
       "2  2022    1       c      2     3       3.3   \n",
       "3  2022    1       d      2     4       4.1   \n",
       "4  2022    1       e      2     4       4.5   \n",
       "\n",
       "                                               TOPIC  \n",
       "0              Series and parallel magnetic circuits  \n",
       "1  Single phase A.C. sinusoidal A.C. wave: instan...  \n",
       "2    Phase sequence and balanced and unbalanced load  \n",
       "3  Transformer: Working principle, emf equation, ...  \n",
       "4  Types of D.C. motors, schematic diagram, 1,  s...  "
      ]
     },
     "execution_count": 214,
     "metadata": {},
     "output_type": "execute_result"
    }
   ],
   "source": [
    "df.head()"
   ]
  },
  {
   "cell_type": "code",
   "execution_count": 224,
   "id": "140567f1",
   "metadata": {},
   "outputs": [
    {
     "data": {
      "text/plain": [
       "<AxesSubplot:xlabel='UNIT', ylabel='MARKS'>"
      ]
     },
     "execution_count": 224,
     "metadata": {},
     "output_type": "execute_result"
    },
    {
     "data": {
      "image/png": "[encoded data removed]",
      "text/plain": [
       "<Figure size 640x480 with 1 Axes>"
      ]
     },
     "metadata": {},
     "output_type": "display_data"
    }
   ],
   "source": [
    "sns.barplot(df[\"UNIT\"],df['MARKS'],hue = df['YEAR']==2022)"
   ]
  },
  {
   "cell_type": "code",
   "execution_count": 229,
   "id": "f42ff9c8",
   "metadata": {},
   "outputs": [
    {
     "data": {
      "text/plain": [
       "<AxesSubplot:xlabel='UNIT'>"
      ]
     },
     "execution_count": 229,
     "metadata": {},
     "output_type": "execute_result"
    },
    {
     "data": {
      "image/png": "[encoded data removed]",
      "text/plain": [
       "<Figure size 640x480 with 1 Axes>"
      ]
     },
     "metadata": {},
     "output_type": "display_data"
    }
   ],
   "source": [
    "sns.violinplot(df['UNIT'])"
   ]
  },
  {
   "cell_type": "raw",
   "id": "8de58e64",
   "metadata": {},
   "source": [
    "Unit 4 Have Most Que"
   ]
  },
  {
   "cell_type": "code",
   "execution_count": 243,
   "id": "4d720c5f",
   "metadata": {},
   "outputs": [
    {
     "data": {
      "text/plain": [
       "array([2022, 2018, 2020, 2019], dtype=int64)"
      ]
     },
     "execution_count": 243,
     "metadata": {},
     "output_type": "execute_result"
    }
   ],
   "source": [
    "df['YEAR'].unique()"
   ]
  },
  {
   "cell_type": "code",
   "execution_count": 255,
   "id": "6b33a2ca",
   "metadata": {},
   "outputs": [
    {
     "data": {
      "text/html": [
       "<div>\n",
       "<style scoped>\n",
       "    .dataframe tbody tr th:only-of-type {\n",
       "        vertical-align: middle;\n",
       "    }\n",
       "\n",
       "    .dataframe tbody tr th {\n",
       "        vertical-align: top;\n",
       "    }\n",
       "\n",
       "    .dataframe thead th {\n",
       "        text-align: right;\n",
       "    }\n",
       "</style>\n",
       "<table border=\"1\" class=\"dataframe\">\n",
       "  <thead>\n",
       "    <tr style=\"text-align: right;\">\n",
       "      <th></th>\n",
       "      <th>YEAR</th>\n",
       "      <th>QUE</th>\n",
       "      <th>SUB-QUE</th>\n",
       "      <th>MARKS</th>\n",
       "      <th>UNIT</th>\n",
       "      <th>TOPIC-NO</th>\n",
       "      <th>TOPIC</th>\n",
       "    </tr>\n",
       "  </thead>\n",
       "  <tbody>\n",
       "    <tr>\n",
       "      <th>0</th>\n",
       "      <td>2022</td>\n",
       "      <td>1</td>\n",
       "      <td>a</td>\n",
       "      <td>2</td>\n",
       "      <td>1</td>\n",
       "      <td>1.3</td>\n",
       "      <td>Series and parallel magnetic circuits</td>\n",
       "    </tr>\n",
       "    <tr>\n",
       "      <th>1</th>\n",
       "      <td>2022</td>\n",
       "      <td>1</td>\n",
       "      <td>b</td>\n",
       "      <td>2</td>\n",
       "      <td>2</td>\n",
       "      <td>2.2</td>\n",
       "      <td>Single phase A.C. sinusoidal A.C. wave: instan...</td>\n",
       "    </tr>\n",
       "    <tr>\n",
       "      <th>2</th>\n",
       "      <td>2022</td>\n",
       "      <td>1</td>\n",
       "      <td>c</td>\n",
       "      <td>2</td>\n",
       "      <td>3</td>\n",
       "      <td>3.3</td>\n",
       "      <td>Phase sequence and balanced and unbalanced load</td>\n",
       "    </tr>\n",
       "    <tr>\n",
       "      <th>3</th>\n",
       "      <td>2022</td>\n",
       "      <td>1</td>\n",
       "      <td>d</td>\n",
       "      <td>2</td>\n",
       "      <td>4</td>\n",
       "      <td>4.1</td>\n",
       "      <td>Transformer: Working principle, emf equation, ...</td>\n",
       "    </tr>\n",
       "    <tr>\n",
       "      <th>4</th>\n",
       "      <td>2022</td>\n",
       "      <td>1</td>\n",
       "      <td>e</td>\n",
       "      <td>2</td>\n",
       "      <td>4</td>\n",
       "      <td>4.5</td>\n",
       "      <td>Types of D.C. motors, schematic diagram, 1,  s...</td>\n",
       "    </tr>\n",
       "    <tr>\n",
       "      <th>5</th>\n",
       "      <td>2022</td>\n",
       "      <td>1</td>\n",
       "      <td>f</td>\n",
       "      <td>2</td>\n",
       "      <td>5</td>\n",
       "      <td>5.3</td>\n",
       "      <td>Stepper motor: types, principle of working and...</td>\n",
       "    </tr>\n",
       "    <tr>\n",
       "      <th>6</th>\n",
       "      <td>2022</td>\n",
       "      <td>1</td>\n",
       "      <td>g</td>\n",
       "      <td>2</td>\n",
       "      <td>6</td>\n",
       "      <td>6.4</td>\n",
       "      <td>Earthing:  Importance of earthing, factors aff...</td>\n",
       "    </tr>\n",
       "    <tr>\n",
       "      <th>7</th>\n",
       "      <td>2022</td>\n",
       "      <td>2</td>\n",
       "      <td>a</td>\n",
       "      <td>4</td>\n",
       "      <td>1</td>\n",
       "      <td>1.6</td>\n",
       "      <td>B-H curve and hysteresis, hysteresis loop and ...</td>\n",
       "    </tr>\n",
       "    <tr>\n",
       "      <th>8</th>\n",
       "      <td>2022</td>\n",
       "      <td>2</td>\n",
       "      <td>b</td>\n",
       "      <td>4</td>\n",
       "      <td>2</td>\n",
       "      <td>2.2</td>\n",
       "      <td>Single phase A.C. sinusoidal A.C. wave: instan...</td>\n",
       "    </tr>\n",
       "    <tr>\n",
       "      <th>9</th>\n",
       "      <td>2022</td>\n",
       "      <td>2</td>\n",
       "      <td>c</td>\n",
       "      <td>4</td>\n",
       "      <td>3</td>\n",
       "      <td>3.5</td>\n",
       "      <td>Current, power, power factor in a 3 phase bala...</td>\n",
       "    </tr>\n",
       "    <tr>\n",
       "      <th>10</th>\n",
       "      <td>2022</td>\n",
       "      <td>2</td>\n",
       "      <td>d</td>\n",
       "      <td>4</td>\n",
       "      <td>4</td>\n",
       "      <td>4.2</td>\n",
       "      <td>Auto-transformer - comparison with two winding...</td>\n",
       "    </tr>\n",
       "    <tr>\n",
       "      <th>11</th>\n",
       "      <td>2022</td>\n",
       "      <td>3</td>\n",
       "      <td>a</td>\n",
       "      <td>4</td>\n",
       "      <td>1</td>\n",
       "      <td>1.1</td>\n",
       "      <td>Magnetic flux, flux density, magneto motive fo...</td>\n",
       "    </tr>\n",
       "    <tr>\n",
       "      <th>12</th>\n",
       "      <td>2022</td>\n",
       "      <td>3</td>\n",
       "      <td>b</td>\n",
       "      <td>4</td>\n",
       "      <td>4</td>\n",
       "      <td>4.3</td>\n",
       "      <td>DC motor construction - parts its function and...</td>\n",
       "    </tr>\n",
       "    <tr>\n",
       "      <th>13</th>\n",
       "      <td>2022</td>\n",
       "      <td>3</td>\n",
       "      <td>c</td>\n",
       "      <td>4</td>\n",
       "      <td>5</td>\n",
       "      <td>5.1</td>\n",
       "      <td>FHP: Schematic representation, principle of op...</td>\n",
       "    </tr>\n",
       "    <tr>\n",
       "      <th>14</th>\n",
       "      <td>2022</td>\n",
       "      <td>3</td>\n",
       "      <td>d</td>\n",
       "      <td>4</td>\n",
       "      <td>6</td>\n",
       "      <td>6.5</td>\n",
       "      <td>Methods of reducing earth resistance, LE rules...</td>\n",
       "    </tr>\n",
       "    <tr>\n",
       "      <th>15</th>\n",
       "      <td>2022</td>\n",
       "      <td>4</td>\n",
       "      <td>a</td>\n",
       "      <td>4</td>\n",
       "      <td>1</td>\n",
       "      <td>1.1</td>\n",
       "      <td>Magnetic flux, flux density, magneto motive fo...</td>\n",
       "    </tr>\n",
       "    <tr>\n",
       "      <th>16</th>\n",
       "      <td>2022</td>\n",
       "      <td>4</td>\n",
       "      <td>b</td>\n",
       "      <td>4</td>\n",
       "      <td>4</td>\n",
       "      <td>4.1</td>\n",
       "      <td>Transformer: Working principle, emf equation, ...</td>\n",
       "    </tr>\n",
       "    <tr>\n",
       "      <th>17</th>\n",
       "      <td>2022</td>\n",
       "      <td>4</td>\n",
       "      <td>c</td>\n",
       "      <td>4</td>\n",
       "      <td>5</td>\n",
       "      <td>5.2</td>\n",
       "      <td>Universal motor: principle of operation. rever...</td>\n",
       "    </tr>\n",
       "    <tr>\n",
       "      <th>18</th>\n",
       "      <td>2022</td>\n",
       "      <td>4</td>\n",
       "      <td>d</td>\n",
       "      <td>4</td>\n",
       "      <td>5</td>\n",
       "      <td>5.1</td>\n",
       "      <td>FHP: Schematic representation, principle of op...</td>\n",
       "    </tr>\n",
       "    <tr>\n",
       "      <th>19</th>\n",
       "      <td>2022</td>\n",
       "      <td>4</td>\n",
       "      <td>e</td>\n",
       "      <td>4</td>\n",
       "      <td>6</td>\n",
       "      <td>6.1</td>\n",
       "      <td>Fuse: Operation, types</td>\n",
       "    </tr>\n",
       "    <tr>\n",
       "      <th>20</th>\n",
       "      <td>2022</td>\n",
       "      <td>5</td>\n",
       "      <td>a</td>\n",
       "      <td>6</td>\n",
       "      <td>2</td>\n",
       "      <td>2.2</td>\n",
       "      <td>Single phase A.C. sinusoidal A.C. wave: instan...</td>\n",
       "    </tr>\n",
       "    <tr>\n",
       "      <th>21</th>\n",
       "      <td>2022</td>\n",
       "      <td>5</td>\n",
       "      <td>b</td>\n",
       "      <td>6</td>\n",
       "      <td>2</td>\n",
       "      <td>2.4</td>\n",
       "      <td>Pure resistance, inductance and capacitance in...</td>\n",
       "    </tr>\n",
       "    <tr>\n",
       "      <th>22</th>\n",
       "      <td>2022</td>\n",
       "      <td>5</td>\n",
       "      <td>c</td>\n",
       "      <td>6</td>\n",
       "      <td>4</td>\n",
       "      <td>4.1</td>\n",
       "      <td>Transformer: Working principle, emf equation, ...</td>\n",
       "    </tr>\n",
       "    <tr>\n",
       "      <th>23</th>\n",
       "      <td>2022</td>\n",
       "      <td>6</td>\n",
       "      <td>a</td>\n",
       "      <td>6</td>\n",
       "      <td>5</td>\n",
       "      <td>5.2</td>\n",
       "      <td>Universal motor: principle of operation. rever...</td>\n",
       "    </tr>\n",
       "    <tr>\n",
       "      <th>24</th>\n",
       "      <td>2022</td>\n",
       "      <td>6</td>\n",
       "      <td>b</td>\n",
       "      <td>6</td>\n",
       "      <td>6</td>\n",
       "      <td>6.4</td>\n",
       "      <td>Earthing:  Importance of earthing, factors aff...</td>\n",
       "    </tr>\n",
       "    <tr>\n",
       "      <th>25</th>\n",
       "      <td>2022</td>\n",
       "      <td>6</td>\n",
       "      <td>c</td>\n",
       "      <td>6</td>\n",
       "      <td>6</td>\n",
       "      <td>6.3</td>\n",
       "      <td>MCB, MCCB and ELCB: Operation and general spec...</td>\n",
       "    </tr>\n",
       "  </tbody>\n",
       "</table>\n",
       "</div>"
      ],
      "text/plain": [
       "    YEAR  QUE SUB-QUE  MARKS  UNIT  TOPIC-NO  \\\n",
       "0   2022    1       a      2     1       1.3   \n",
       "1   2022    1       b      2     2       2.2   \n",
       "2   2022    1       c      2     3       3.3   \n",
       "3   2022    1       d      2     4       4.1   \n",
       "4   2022    1       e      2     4       4.5   \n",
       "5   2022    1       f      2     5       5.3   \n",
       "6   2022    1       g      2     6       6.4   \n",
       "7   2022    2       a      4     1       1.6   \n",
       "8   2022    2       b      4     2       2.2   \n",
       "9   2022    2       c      4     3       3.5   \n",
       "10  2022    2       d      4     4       4.2   \n",
       "11  2022    3       a      4     1       1.1   \n",
       "12  2022    3       b      4     4       4.3   \n",
       "13  2022    3       c      4     5       5.1   \n",
       "14  2022    3       d      4     6       6.5   \n",
       "15  2022    4       a      4     1       1.1   \n",
       "16  2022    4       b      4     4       4.1   \n",
       "17  2022    4       c      4     5       5.2   \n",
       "18  2022    4       d      4     5       5.1   \n",
       "19  2022    4       e      4     6       6.1   \n",
       "20  2022    5       a      6     2       2.2   \n",
       "21  2022    5       b      6     2       2.4   \n",
       "22  2022    5       c      6     4       4.1   \n",
       "23  2022    6       a      6     5       5.2   \n",
       "24  2022    6       b      6     6       6.4   \n",
       "25  2022    6       c      6     6       6.3   \n",
       "\n",
       "                                                TOPIC  \n",
       "0               Series and parallel magnetic circuits  \n",
       "1   Single phase A.C. sinusoidal A.C. wave: instan...  \n",
       "2     Phase sequence and balanced and unbalanced load  \n",
       "3   Transformer: Working principle, emf equation, ...  \n",
       "4   Types of D.C. motors, schematic diagram, 1,  s...  \n",
       "5   Stepper motor: types, principle of working and...  \n",
       "6   Earthing:  Importance of earthing, factors aff...  \n",
       "7   B-H curve and hysteresis, hysteresis loop and ...  \n",
       "8   Single phase A.C. sinusoidal A.C. wave: instan...  \n",
       "9   Current, power, power factor in a 3 phase bala...  \n",
       "10  Auto-transformer - comparison with two winding...  \n",
       "11  Magnetic flux, flux density, magneto motive fo...  \n",
       "12  DC motor construction - parts its function and...  \n",
       "13  FHP: Schematic representation, principle of op...  \n",
       "14  Methods of reducing earth resistance, LE rules...  \n",
       "15  Magnetic flux, flux density, magneto motive fo...  \n",
       "16  Transformer: Working principle, emf equation, ...  \n",
       "17  Universal motor: principle of operation. rever...  \n",
       "18  FHP: Schematic representation, principle of op...  \n",
       "19                             Fuse: Operation, types  \n",
       "20  Single phase A.C. sinusoidal A.C. wave: instan...  \n",
       "21  Pure resistance, inductance and capacitance in...  \n",
       "22  Transformer: Working principle, emf equation, ...  \n",
       "23  Universal motor: principle of operation. rever...  \n",
       "24  Earthing:  Importance of earthing, factors aff...  \n",
       "25  MCB, MCCB and ELCB: Operation and general spec...  "
      ]
     },
     "execution_count": 255,
     "metadata": {},
     "output_type": "execute_result"
    }
   ],
   "source": [
    "# creating 2022 year dataframe\n",
    "_2022 = pd.DataFrame(df[df[\"YEAR\"]==2022])\n",
    "_2020 = pd.DataFrame(df[df[\"YEAR\"]==2020])\n",
    "_2019 = pd.DataFrame(df[df[\"YEAR\"]==2019])\n",
    "_2018 = pd.DataFrame(df[df[\"YEAR\"]==2018])\n",
    "\n",
    "_2022"
   ]
  },
  {
   "cell_type": "raw",
   "id": "f00dd460",
   "metadata": {},
   "source": [
    "2022 QP Have 25 Que"
   ]
  },
  {
   "cell_type": "code",
   "execution_count": 256,
   "id": "ffe7b3f3",
   "metadata": {},
   "outputs": [],
   "source": [
    "# # analyzing topics as per marks \n",
    "# years_data = ['_2022','_2020','2019','2018']\n",
    "# for i in years_data:\n",
    "#     print(i)\n",
    "#     sns.swarmplot(data = i , x= 'TOPIC-NO', y='MARKS')"
   ]
  },
  {
   "cell_type": "code",
   "execution_count": 257,
   "id": "3a1e6f86",
   "metadata": {},
   "outputs": [
    {
     "data": {
      "text/plain": [
       "<AxesSubplot:xlabel='TOPIC-NO', ylabel='MARKS'>"
      ]
     },
     "execution_count": 257,
     "metadata": {},
     "output_type": "execute_result"
    },
    {
     "data": {
      "image/png": "[encoded data removed]",
      "text/plain": [
       "<Figure size 640x480 with 1 Axes>"
      ]
     },
     "metadata": {},
     "output_type": "display_data"
    }
   ],
   "source": [
    "sns.swarmplot(data = _2022 , x= 'TOPIC-NO', y='MARKS')"
   ]
  },
  {
   "cell_type": "code",
   "execution_count": 258,
   "id": "92b98617",
   "metadata": {},
   "outputs": [
    {
     "data": {
      "text/plain": [
       "<AxesSubplot:xlabel='TOPIC-NO', ylabel='MARKS'>"
      ]
     },
     "execution_count": 258,
     "metadata": {},
     "output_type": "execute_result"
    },
    {
     "data": {
      "image/png": "[encoded data removed]",
      "text/plain": [
       "<Figure size 640x480 with 1 Axes>"
      ]
     },
     "metadata": {},
     "output_type": "display_data"
    }
   ],
   "source": [
    "sns.swarmplot(data = _2020 , x= 'TOPIC-NO', y='MARKS')"
   ]
  },
  {
   "cell_type": "code",
   "execution_count": 259,
   "id": "dccae009",
   "metadata": {},
   "outputs": [
    {
     "data": {
      "text/plain": [
       "<AxesSubplot:xlabel='TOPIC-NO', ylabel='MARKS'>"
      ]
     },
     "execution_count": 259,
     "metadata": {},
     "output_type": "execute_result"
    },
    {
     "data": {
      "image/png": "[encoded data removed]",
      "text/plain": [
       "<Figure size 640x480 with 1 Axes>"
      ]
     },
     "metadata": {},
     "output_type": "display_data"
    }
   ],
   "source": [
    "sns.swarmplot(data = _2019 , x= 'TOPIC-NO', y='MARKS')"
   ]
  },
  {
   "cell_type": "code",
   "execution_count": 260,
   "id": "be281bdb",
   "metadata": {},
   "outputs": [
    {
     "data": {
      "text/plain": [
       "<AxesSubplot:xlabel='TOPIC-NO', ylabel='MARKS'>"
      ]
     },
     "execution_count": 260,
     "metadata": {},
     "output_type": "execute_result"
    },
    {
     "data": {
      "image/png": "[encoded data removed]",
      "text/plain": [
       "<Figure size 640x480 with 1 Axes>"
      ]
     },
     "metadata": {},
     "output_type": "display_data"
    }
   ],
   "source": [
    "sns.swarmplot(data = _2018 , x= 'TOPIC-NO', y='MARKS')"
   ]
  },
  {
   "cell_type": "code",
   "execution_count": 263,
   "id": "2ec015f2",
   "metadata": {},
   "outputs": [
    {
     "data": {
      "text/plain": [
       "Index(['YEAR', 'QUE', 'SUB-QUE', 'MARKS', 'UNIT', 'TOPIC-NO', 'TOPIC'], dtype='object')"
      ]
     },
     "execution_count": 263,
     "metadata": {},
     "output_type": "execute_result"
    }
   ],
   "source": [
    "df.columns"
   ]
  },
  {
   "cell_type": "code",
   "execution_count": 262,
   "id": "ea648f00",
   "metadata": {},
   "outputs": [
    {
     "data": {
      "text/plain": [
       "<AxesSubplot:xlabel='TOPIC-NO', ylabel='Density'>"
      ]
     },
     "execution_count": 262,
     "metadata": {},
     "output_type": "execute_result"
    },
    {
     "data": {
      "image/png": "[encoded data removed]",
      "text/plain": [
       "<Figure size 640x480 with 1 Axes>"
      ]
     },
     "metadata": {},
     "output_type": "display_data"
    }
   ],
   "source": [
    "sns.distplot(df[\"TOPIC-NO\"])"
   ]
  },
  {
   "cell_type": "code",
   "execution_count": 270,
   "id": "014d0843",
   "metadata": {},
   "outputs": [
    {
     "data": {
      "text/plain": [
       "<seaborn.axisgrid.FacetGrid at 0x231fd37fe80>"
      ]
     },
     "execution_count": 270,
     "metadata": {},
     "output_type": "execute_result"
    },
    {
     "data": {
      "image/png": "[encoded data removed]",
      "text/plain": [
       "<Figure size 563.5x500 with 1 Axes>"
      ]
     },
     "metadata": {},
     "output_type": "display_data"
    }
   ],
   "source": [
    "sns.catplot(data=df, x=\"SUB-QUE\", y=\"TOPIC-NO\",hue= \"QUE\")    #.set_yticks(range(0,6.8))"
   ]
  },
  {
   "cell_type": "code",
   "execution_count": 271,
   "id": "b6a633ee",
   "metadata": {},
   "outputs": [
    {
     "data": {
      "text/plain": [
       "<seaborn.axisgrid.JointGrid at 0x231faab7430>"
      ]
     },
     "execution_count": 271,
     "metadata": {},
     "output_type": "execute_result"
    },
    {
     "data": {
      "image/png": "[encoded data removed]",
      "text/plain": [
       "<Figure size 600x600 with 3 Axes>"
      ]
     },
     "metadata": {},
     "output_type": "display_data"
    }
   ],
   "source": [
    "sns.jointplot(data=df, x=\"TOPIC-NO\", y=\"QUE\", kind=\"hist\")"
   ]
  },
  {
   "cell_type": "raw",
   "id": "6fb511d2",
   "metadata": {},
   "source": [
    "Q4 Have Most of Time 5th Unit\n",
    "Q6 Have Most of Time 6th Unit"
   ]
  },
  {
   "cell_type": "markdown",
   "id": "a53c5c67",
   "metadata": {},
   "source": [
    "#### Correelation Test`"
   ]
  },
  {
   "cell_type": "code",
   "execution_count": 16,
   "id": "6ff346d3",
   "metadata": {},
   "outputs": [
    {
     "data": {
      "text/plain": [
       "<AxesSubplot:>"
      ]
     },
     "execution_count": 16,
     "metadata": {},
     "output_type": "execute_result"
    },
    {
     "data": {
      "image/png": "[encoded data removed]",
      "text/plain": [
       "<Figure size 640x480 with 2 Axes>"
      ]
     },
     "metadata": {},
     "output_type": "display_data"
    }
   ],
   "source": [
    "sns.heatmap(df.corr(),annot=True,cmap=\"Blues\")"
   ]
  },
  {
   "cell_type": "code",
   "execution_count": 100,
   "id": "b824e35a",
   "metadata": {},
   "outputs": [
    {
     "data": {
      "text/plain": [
       "<seaborn.axisgrid.PairGrid at 0x2cc5b7c9070>"
      ]
     },
     "execution_count": 100,
     "metadata": {},
     "output_type": "execute_result"
    },
    {
     "data": {
      "image/png": "[encoded data removed]",
      "text/plain": [
       "<Figure size 1250x1250 with 30 Axes>"
      ]
     },
     "metadata": {},
     "output_type": "display_data"
    }
   ],
   "source": [
    "sns.pairplot(df)"
   ]
  },
  {
   "cell_type": "markdown",
   "id": "74acdc0e",
   "metadata": {},
   "source": [
    "### Pandas SQL"
   ]
  },
  {
   "cell_type": "raw",
   "id": "c9f6967b",
   "metadata": {},
   "source": [
    "In Q1:b --> 2.1 \n",
    "            A.C, and D.C. quantity, advantages of A.C. over D.C.\n",
    "    \n",
    "Have Asked Most of The Time"
   ]
  },
  {
   "cell_type": "code",
   "execution_count": 287,
   "id": "08ca8389",
   "metadata": {
    "scrolled": false
   },
   "outputs": [
    {
     "data": {
      "text/html": [
       "<div>\n",
       "<style scoped>\n",
       "    .dataframe tbody tr th:only-of-type {\n",
       "        vertical-align: middle;\n",
       "    }\n",
       "\n",
       "    .dataframe tbody tr th {\n",
       "        vertical-align: top;\n",
       "    }\n",
       "\n",
       "    .dataframe thead th {\n",
       "        text-align: right;\n",
       "    }\n",
       "</style>\n",
       "<table border=\"1\" class=\"dataframe\">\n",
       "  <thead>\n",
       "    <tr style=\"text-align: right;\">\n",
       "      <th></th>\n",
       "      <th>YEAR</th>\n",
       "      <th>QUE</th>\n",
       "      <th>SUB-QUE</th>\n",
       "      <th>MARKS</th>\n",
       "      <th>UNIT</th>\n",
       "      <th>TOPIC-NO</th>\n",
       "      <th>TOPIC</th>\n",
       "    </tr>\n",
       "  </thead>\n",
       "  <tbody>\n",
       "    <tr>\n",
       "      <th>2</th>\n",
       "      <td>2022</td>\n",
       "      <td>1</td>\n",
       "      <td>c</td>\n",
       "      <td>2</td>\n",
       "      <td>3</td>\n",
       "      <td>3.3</td>\n",
       "      <td>Phase sequence and balanced and unbalanced load</td>\n",
       "    </tr>\n",
       "    <tr>\n",
       "      <th>28</th>\n",
       "      <td>2018</td>\n",
       "      <td>1</td>\n",
       "      <td>c</td>\n",
       "      <td>2</td>\n",
       "      <td>3</td>\n",
       "      <td>3.1</td>\n",
       "      <td>3 phase system over 1 phase system</td>\n",
       "    </tr>\n",
       "    <tr>\n",
       "      <th>54</th>\n",
       "      <td>2020</td>\n",
       "      <td>1</td>\n",
       "      <td>c</td>\n",
       "      <td>2</td>\n",
       "      <td>3</td>\n",
       "      <td>3.2</td>\n",
       "      <td>3-phase emf generation and its wave form</td>\n",
       "    </tr>\n",
       "    <tr>\n",
       "      <th>80</th>\n",
       "      <td>2019</td>\n",
       "      <td>1</td>\n",
       "      <td>c</td>\n",
       "      <td>2</td>\n",
       "      <td>3</td>\n",
       "      <td>3.3</td>\n",
       "      <td>Phase sequence and balanced and unbalanced load</td>\n",
       "    </tr>\n",
       "    <tr>\n",
       "      <th>106</th>\n",
       "      <td>2019</td>\n",
       "      <td>1</td>\n",
       "      <td>c</td>\n",
       "      <td>2</td>\n",
       "      <td>3</td>\n",
       "      <td>3.1</td>\n",
       "      <td>3 phase system over 1 phase system</td>\n",
       "    </tr>\n",
       "  </tbody>\n",
       "</table>\n",
       "</div>"
      ],
      "text/plain": [
       "     YEAR  QUE SUB-QUE  MARKS  UNIT  TOPIC-NO  \\\n",
       "2    2022    1       c      2     3       3.3   \n",
       "28   2018    1       c      2     3       3.1   \n",
       "54   2020    1       c      2     3       3.2   \n",
       "80   2019    1       c      2     3       3.3   \n",
       "106  2019    1       c      2     3       3.1   \n",
       "\n",
       "                                               TOPIC  \n",
       "2    Phase sequence and balanced and unbalanced load  \n",
       "28                3 phase system over 1 phase system  \n",
       "54          3-phase emf generation and its wave form  \n",
       "80   Phase sequence and balanced and unbalanced load  \n",
       "106               3 phase system over 1 phase system  "
      ]
     },
     "execution_count": 287,
     "metadata": {},
     "output_type": "execute_result"
    }
   ],
   "source": [
    "_1c= df[(df['QUE']==1) & (df['SUB-QUE']=='c')]\n",
    "_1c"
   ]
  },
  {
   "cell_type": "code",
   "execution_count": 288,
   "id": "076ebe50",
   "metadata": {
    "scrolled": true
   },
   "outputs": [
    {
     "data": {
      "text/plain": [
       "3.3    2\n",
       "3.1    2\n",
       "3.2    1\n",
       "Name: TOPIC-NO, dtype: int64"
      ]
     },
     "execution_count": 288,
     "metadata": {},
     "output_type": "execute_result"
    }
   ],
   "source": [
    "_1c[\"TOPIC-NO\"].value_counts()"
   ]
  },
  {
   "cell_type": "raw",
   "id": "985bf3f9",
   "metadata": {},
   "source": [
    "In Q1:c --> 3.3\n",
    "            Phase sequence and balanced and unbalanced load\n",
    "            &\n",
    "            3.1\n",
    "            3 phase system over 1 phase system\n",
    "    \n",
    "Have Asked Most of The Time"
   ]
  },
  {
   "cell_type": "markdown",
   "id": "2ba6a0cd",
   "metadata": {},
   "source": [
    "Automated This Process"
   ]
  },
  {
   "cell_type": "raw",
   "id": "cb792ab8",
   "metadata": {},
   "source": [
    "def Most_Asked_Topics():\n",
    "    for o, s in itertools.product(que, sub_que):\n",
    "        # printed data for particular question like 1a,2b etc.\n",
    "        #(4 rows bcoz 4 papers and all question numbers are unique )\n",
    "        i = df[(df['QUE'] == o) & (df['SUB-QUE'] == s)]\n",
    "        # stored that topics value counts\n",
    "        possible_topics = i[\"TOPIC-NO\"].value_counts()\n",
    "        print(\"Most Asked Topic In\",\"\\n\",\"QUE: \", o, \"SUB-QUE: \", s,\":\")\n",
    "        #value counts starts from most frequent therefore head 1 used\n",
    "        for topic, count in possible_topics.head(1).items():\n",
    "            print(topic, count, \"\\n\")"
   ]
  },
  {
   "cell_type": "code",
   "execution_count": 92,
   "id": "7ab4ebf8",
   "metadata": {},
   "outputs": [
    {
     "name": "stdout",
     "output_type": "stream",
     "text": [
      "Que 1 Sub-Question a:\n",
      "1.4    3\n",
      "1.3    1\n",
      "1.1    1\n",
      "Name: TOPIC-NO, dtype: int64 \n",
      "\n",
      "Que 1 Sub-Question a:\n",
      "1.4    3\n",
      "1.3    1\n",
      "1.1    1\n",
      "Name: TOPIC-NO, dtype: int64 \n",
      "\n",
      "Que 1 Sub-Question a:\n",
      "1.4    3\n",
      "1.3    1\n",
      "1.1    1\n",
      "Name: TOPIC-NO, dtype: int64 \n",
      "\n",
      "Que 1 Sub-Question a:\n",
      "1.4    3\n",
      "1.3    1\n",
      "1.1    1\n",
      "Name: TOPIC-NO, dtype: int64 \n",
      "\n",
      "Que 1 Sub-Question a:\n",
      "1.4    3\n",
      "1.3    1\n",
      "1.1    1\n",
      "Name: TOPIC-NO, dtype: int64 \n",
      "\n",
      "Que 1 Sub-Question a:\n",
      "1.4    3\n",
      "1.3    1\n",
      "1.1    1\n",
      "Name: TOPIC-NO, dtype: int64 \n",
      "\n",
      "Que 1 Sub-Question a:\n",
      "1.4    3\n",
      "1.3    1\n",
      "1.1    1\n",
      "Name: TOPIC-NO, dtype: int64 \n",
      "\n",
      "Que 2 Sub-Question a:\n",
      "1.6    2\n",
      "1.3    1\n",
      "1.2    1\n",
      "1.5    1\n",
      "Name: TOPIC-NO, dtype: int64 \n",
      "\n",
      "Que 2 Sub-Question a:\n",
      "1.6    2\n",
      "1.3    1\n",
      "1.2    1\n",
      "1.5    1\n",
      "Name: TOPIC-NO, dtype: int64 \n",
      "\n",
      "Que 2 Sub-Question a:\n",
      "1.6    2\n",
      "1.3    1\n",
      "1.2    1\n",
      "1.5    1\n",
      "Name: TOPIC-NO, dtype: int64 \n",
      "\n",
      "Que 2 Sub-Question a:\n",
      "1.6    2\n",
      "1.3    1\n",
      "1.2    1\n",
      "1.5    1\n",
      "Name: TOPIC-NO, dtype: int64 \n",
      "\n",
      "Que 3 Sub-Question a:\n",
      "1.2    2\n",
      "1.1    1\n",
      "1.5    1\n",
      "1.4    1\n",
      "Name: TOPIC-NO, dtype: int64 \n",
      "\n",
      "Que 3 Sub-Question a:\n",
      "1.2    2\n",
      "1.1    1\n",
      "1.5    1\n",
      "1.4    1\n",
      "Name: TOPIC-NO, dtype: int64 \n",
      "\n",
      "Que 3 Sub-Question a:\n",
      "1.2    2\n",
      "1.1    1\n",
      "1.5    1\n",
      "1.4    1\n",
      "Name: TOPIC-NO, dtype: int64 \n",
      "\n",
      "Que 3 Sub-Question a:\n",
      "1.2    2\n",
      "1.1    1\n",
      "1.5    1\n",
      "1.4    1\n",
      "Name: TOPIC-NO, dtype: int64 \n",
      "\n",
      "Que 4 Sub-Question a:\n",
      "1.1    2\n",
      "1.4    1\n",
      "1.2    1\n",
      "1.6    1\n",
      "Name: TOPIC-NO, dtype: int64 \n",
      "\n",
      "Que 4 Sub-Question a:\n",
      "1.1    2\n",
      "1.4    1\n",
      "1.2    1\n",
      "1.6    1\n",
      "Name: TOPIC-NO, dtype: int64 \n",
      "\n",
      "Que 4 Sub-Question a:\n",
      "1.1    2\n",
      "1.4    1\n",
      "1.2    1\n",
      "1.6    1\n",
      "Name: TOPIC-NO, dtype: int64 \n",
      "\n",
      "Que 4 Sub-Question a:\n",
      "1.1    2\n",
      "1.4    1\n",
      "1.2    1\n",
      "1.6    1\n",
      "Name: TOPIC-NO, dtype: int64 \n",
      "\n",
      "Que 4 Sub-Question a:\n",
      "1.1    2\n",
      "1.4    1\n",
      "1.2    1\n",
      "1.6    1\n",
      "Name: TOPIC-NO, dtype: int64 \n",
      "\n",
      "Que 5 Sub-Question a:\n",
      "2.2    3\n",
      "2.1    1\n",
      "2.3    1\n",
      "Name: TOPIC-NO, dtype: int64 \n",
      "\n",
      "Que 5 Sub-Question a:\n",
      "2.2    3\n",
      "2.1    1\n",
      "2.3    1\n",
      "Name: TOPIC-NO, dtype: int64 \n",
      "\n",
      "Que 5 Sub-Question a:\n",
      "2.2    3\n",
      "2.1    1\n",
      "2.3    1\n",
      "Name: TOPIC-NO, dtype: int64 \n",
      "\n",
      "Que 6 Sub-Question a:\n",
      "5.2    2\n",
      "5.3    2\n",
      "5.1    1\n",
      "Name: TOPIC-NO, dtype: int64 \n",
      "\n",
      "Que 6 Sub-Question a:\n",
      "5.2    2\n",
      "5.3    2\n",
      "5.1    1\n",
      "Name: TOPIC-NO, dtype: int64 \n",
      "\n",
      "Que 6 Sub-Question a:\n",
      "5.2    2\n",
      "5.3    2\n",
      "5.1    1\n",
      "Name: TOPIC-NO, dtype: int64 \n",
      "\n",
      "Que 1 Sub-Question b:\n",
      "2.1    2\n",
      "2.2    1\n",
      "2.3    1\n",
      "3.5    1\n",
      "Name: TOPIC-NO, dtype: int64 \n",
      "\n",
      "Que 1 Sub-Question b:\n",
      "2.1    2\n",
      "2.2    1\n",
      "2.3    1\n",
      "3.5    1\n",
      "Name: TOPIC-NO, dtype: int64 \n",
      "\n",
      "Que 1 Sub-Question b:\n",
      "2.1    2\n",
      "2.2    1\n",
      "2.3    1\n",
      "3.5    1\n",
      "Name: TOPIC-NO, dtype: int64 \n",
      "\n",
      "Que 1 Sub-Question b:\n",
      "2.1    2\n",
      "2.2    1\n",
      "2.3    1\n",
      "3.5    1\n",
      "Name: TOPIC-NO, dtype: int64 \n",
      "\n",
      "Que 1 Sub-Question b:\n",
      "2.1    2\n",
      "2.2    1\n",
      "2.3    1\n",
      "3.5    1\n",
      "Name: TOPIC-NO, dtype: int64 \n",
      "\n",
      "Que 1 Sub-Question b:\n",
      "2.1    2\n",
      "2.2    1\n",
      "2.3    1\n",
      "3.5    1\n",
      "Name: TOPIC-NO, dtype: int64 \n",
      "\n",
      "Que 1 Sub-Question b:\n",
      "2.1    2\n",
      "2.2    1\n",
      "2.3    1\n",
      "3.5    1\n",
      "Name: TOPIC-NO, dtype: int64 \n",
      "\n",
      "Que 2 Sub-Question b:\n",
      "2.2    3\n",
      "2.3    1\n",
      "2.4    1\n",
      "Name: TOPIC-NO, dtype: int64 \n",
      "\n",
      "Que 2 Sub-Question b:\n",
      "2.2    3\n",
      "2.3    1\n",
      "2.4    1\n",
      "Name: TOPIC-NO, dtype: int64 \n",
      "\n",
      "Que 2 Sub-Question b:\n",
      "2.2    3\n",
      "2.3    1\n",
      "2.4    1\n",
      "Name: TOPIC-NO, dtype: int64 \n",
      "\n",
      "Que 2 Sub-Question b:\n",
      "2.2    3\n",
      "2.3    1\n",
      "2.4    1\n",
      "Name: TOPIC-NO, dtype: int64 \n",
      "\n",
      "Que 3 Sub-Question b:\n",
      "4.2    2\n",
      "4.3    1\n",
      "4.4    1\n",
      "4.1    1\n",
      "Name: TOPIC-NO, dtype: int64 \n",
      "\n",
      "Que 3 Sub-Question b:\n",
      "4.2    2\n",
      "4.3    1\n",
      "4.4    1\n",
      "4.1    1\n",
      "Name: TOPIC-NO, dtype: int64 \n",
      "\n",
      "Que 3 Sub-Question b:\n",
      "4.2    2\n",
      "4.3    1\n",
      "4.4    1\n",
      "4.1    1\n",
      "Name: TOPIC-NO, dtype: int64 \n",
      "\n",
      "Que 3 Sub-Question b:\n",
      "4.2    2\n",
      "4.3    1\n",
      "4.4    1\n",
      "4.1    1\n",
      "Name: TOPIC-NO, dtype: int64 \n",
      "\n",
      "Que 4 Sub-Question b:\n",
      "4.5    2\n",
      "4.2    2\n",
      "4.1    1\n",
      "Name: TOPIC-NO, dtype: int64 \n",
      "\n",
      "Que 4 Sub-Question b:\n",
      "4.5    2\n",
      "4.2    2\n",
      "4.1    1\n",
      "Name: TOPIC-NO, dtype: int64 \n",
      "\n",
      "Que 4 Sub-Question b:\n",
      "4.5    2\n",
      "4.2    2\n",
      "4.1    1\n",
      "Name: TOPIC-NO, dtype: int64 \n",
      "\n",
      "Que 4 Sub-Question b:\n",
      "4.5    2\n",
      "4.2    2\n",
      "4.1    1\n",
      "Name: TOPIC-NO, dtype: int64 \n",
      "\n",
      "Que 4 Sub-Question b:\n",
      "4.5    2\n",
      "4.2    2\n",
      "4.1    1\n",
      "Name: TOPIC-NO, dtype: int64 \n",
      "\n",
      "Que 5 Sub-Question b:\n",
      "3.4    2\n",
      "2.4    1\n",
      "2.8    1\n",
      "3.3    1\n",
      "Name: TOPIC-NO, dtype: int64 \n",
      "\n",
      "Que 5 Sub-Question b:\n",
      "3.4    2\n",
      "2.4    1\n",
      "2.8    1\n",
      "3.3    1\n",
      "Name: TOPIC-NO, dtype: int64 \n",
      "\n",
      "Que 5 Sub-Question b:\n",
      "3.4    2\n",
      "2.4    1\n",
      "2.8    1\n",
      "3.3    1\n",
      "Name: TOPIC-NO, dtype: int64 \n",
      "\n",
      "Que 6 Sub-Question b:\n",
      "6.4    2\n",
      "6.5    1\n",
      "6.1    1\n",
      "6.3    1\n",
      "Name: TOPIC-NO, dtype: int64 \n",
      "\n",
      "Que 6 Sub-Question b:\n",
      "6.4    2\n",
      "6.5    1\n",
      "6.1    1\n",
      "6.3    1\n",
      "Name: TOPIC-NO, dtype: int64 \n",
      "\n",
      "Que 6 Sub-Question b:\n",
      "6.4    2\n",
      "6.5    1\n",
      "6.1    1\n",
      "6.3    1\n",
      "Name: TOPIC-NO, dtype: int64 \n",
      "\n",
      "Que 1 Sub-Question c:\n",
      "3.3    2\n",
      "3.1    2\n",
      "3.2    1\n",
      "Name: TOPIC-NO, dtype: int64 \n",
      "\n",
      "Que 1 Sub-Question c:\n",
      "3.3    2\n",
      "3.1    2\n",
      "3.2    1\n",
      "Name: TOPIC-NO, dtype: int64 \n",
      "\n",
      "Que 1 Sub-Question c:\n",
      "3.3    2\n",
      "3.1    2\n",
      "3.2    1\n",
      "Name: TOPIC-NO, dtype: int64 \n",
      "\n",
      "Que 1 Sub-Question c:\n",
      "3.3    2\n",
      "3.1    2\n",
      "3.2    1\n",
      "Name: TOPIC-NO, dtype: int64 \n",
      "\n",
      "Que 1 Sub-Question c:\n",
      "3.3    2\n",
      "3.1    2\n",
      "3.2    1\n",
      "Name: TOPIC-NO, dtype: int64 \n",
      "\n",
      "Que 1 Sub-Question c:\n",
      "3.3    2\n",
      "3.1    2\n",
      "3.2    1\n",
      "Name: TOPIC-NO, dtype: int64 \n",
      "\n",
      "Que 1 Sub-Question c:\n",
      "3.3    2\n",
      "3.1    2\n",
      "3.2    1\n",
      "Name: TOPIC-NO, dtype: int64 \n",
      "\n",
      "Que 2 Sub-Question c:\n",
      "3.5    1\n",
      "3.4    1\n",
      "3.6    1\n",
      "3.2    1\n",
      "4.2    1\n",
      "Name: TOPIC-NO, dtype: int64 \n",
      "\n",
      "Que 2 Sub-Question c:\n",
      "3.5    1\n",
      "3.4    1\n",
      "3.6    1\n",
      "3.2    1\n",
      "4.2    1\n",
      "Name: TOPIC-NO, dtype: int64 \n",
      "\n",
      "Que 2 Sub-Question c:\n",
      "3.5    1\n",
      "3.4    1\n",
      "3.6    1\n",
      "3.2    1\n",
      "4.2    1\n",
      "Name: TOPIC-NO, dtype: int64 \n",
      "\n",
      "Que 2 Sub-Question c:\n",
      "3.5    1\n",
      "3.4    1\n",
      "3.6    1\n",
      "3.2    1\n",
      "4.2    1\n",
      "Name: TOPIC-NO, dtype: int64 \n",
      "\n",
      "Que 3 Sub-Question c:\n",
      "5.1    4\n",
      "5.2    1\n",
      "Name: TOPIC-NO, dtype: int64 \n",
      "\n",
      "Que 3 Sub-Question c:\n",
      "5.1    4\n",
      "5.2    1\n",
      "Name: TOPIC-NO, dtype: int64 \n",
      "\n",
      "Que 3 Sub-Question c:\n",
      "5.1    4\n",
      "5.2    1\n",
      "Name: TOPIC-NO, dtype: int64 \n",
      "\n",
      "Que 3 Sub-Question c:\n",
      "5.1    4\n",
      "5.2    1\n",
      "Name: TOPIC-NO, dtype: int64 \n",
      "\n",
      "Que 4 Sub-Question c:\n",
      "5.2    4\n",
      "5.3    1\n",
      "Name: TOPIC-NO, dtype: int64 \n",
      "\n",
      "Que 4 Sub-Question c:\n",
      "5.2    4\n",
      "5.3    1\n",
      "Name: TOPIC-NO, dtype: int64 \n",
      "\n",
      "Que 4 Sub-Question c:\n",
      "5.2    4\n",
      "5.3    1\n",
      "Name: TOPIC-NO, dtype: int64 \n",
      "\n",
      "Que 4 Sub-Question c:\n",
      "5.2    4\n",
      "5.3    1\n",
      "Name: TOPIC-NO, dtype: int64 \n",
      "\n",
      "Que 4 Sub-Question c:\n",
      "5.2    4\n",
      "5.3    1\n",
      "Name: TOPIC-NO, dtype: int64 \n",
      "\n",
      "Que 5 Sub-Question c:\n",
      "4.1    2\n",
      "4.2    1\n",
      "3.4    1\n",
      "4.5    1\n",
      "Name: TOPIC-NO, dtype: int64 \n",
      "\n",
      "Que 5 Sub-Question c:\n",
      "4.1    2\n",
      "4.2    1\n",
      "3.4    1\n",
      "4.5    1\n",
      "Name: TOPIC-NO, dtype: int64 \n",
      "\n",
      "Que 5 Sub-Question c:\n",
      "4.1    2\n",
      "4.2    1\n",
      "3.4    1\n",
      "4.5    1\n",
      "Name: TOPIC-NO, dtype: int64 \n",
      "\n",
      "Que 6 Sub-Question c:\n",
      "6.3    3\n",
      "6.4    2\n",
      "Name: TOPIC-NO, dtype: int64 \n",
      "\n",
      "Que 6 Sub-Question c:\n",
      "6.3    3\n",
      "6.4    2\n",
      "Name: TOPIC-NO, dtype: int64 \n",
      "\n",
      "Que 6 Sub-Question c:\n",
      "6.3    3\n",
      "6.4    2\n",
      "Name: TOPIC-NO, dtype: int64 \n",
      "\n",
      "Que 1 Sub-Question d:\n",
      "4.1    4\n",
      "4.3    1\n",
      "Name: TOPIC-NO, dtype: int64 \n",
      "\n",
      "Que 1 Sub-Question d:\n",
      "4.1    4\n",
      "4.3    1\n",
      "Name: TOPIC-NO, dtype: int64 \n",
      "\n",
      "Que 1 Sub-Question d:\n",
      "4.1    4\n",
      "4.3    1\n",
      "Name: TOPIC-NO, dtype: int64 \n",
      "\n",
      "Que 1 Sub-Question d:\n",
      "4.1    4\n",
      "4.3    1\n",
      "Name: TOPIC-NO, dtype: int64 \n",
      "\n",
      "Que 1 Sub-Question d:\n",
      "4.1    4\n",
      "4.3    1\n",
      "Name: TOPIC-NO, dtype: int64 \n",
      "\n",
      "Que 1 Sub-Question d:\n",
      "4.1    4\n",
      "4.3    1\n",
      "Name: TOPIC-NO, dtype: int64 \n",
      "\n",
      "Que 1 Sub-Question d:\n",
      "4.1    4\n",
      "4.3    1\n",
      "Name: TOPIC-NO, dtype: int64 \n",
      "\n",
      "Que 2 Sub-Question d:\n",
      "4.2    2\n",
      "4.3    2\n",
      "3.1    1\n",
      "Name: TOPIC-NO, dtype: int64 \n",
      "\n",
      "Que 2 Sub-Question d:\n",
      "4.2    2\n",
      "4.3    2\n",
      "3.1    1\n",
      "Name: TOPIC-NO, dtype: int64 \n",
      "\n",
      "Que 2 Sub-Question d:\n",
      "4.2    2\n",
      "4.3    2\n",
      "3.1    1\n",
      "Name: TOPIC-NO, dtype: int64 \n",
      "\n",
      "Que 2 Sub-Question d:\n",
      "4.2    2\n",
      "4.3    2\n",
      "3.1    1\n",
      "Name: TOPIC-NO, dtype: int64 \n",
      "\n",
      "Que 3 Sub-Question d:\n",
      "6.5    2\n",
      "6.3    1\n",
      "6.1    1\n",
      "6.4    1\n",
      "Name: TOPIC-NO, dtype: int64 \n",
      "\n",
      "Que 3 Sub-Question d:\n",
      "6.5    2\n",
      "6.3    1\n",
      "6.1    1\n",
      "6.4    1\n",
      "Name: TOPIC-NO, dtype: int64 \n",
      "\n",
      "Que 3 Sub-Question d:\n",
      "6.5    2\n",
      "6.3    1\n",
      "6.1    1\n",
      "6.4    1\n",
      "Name: TOPIC-NO, dtype: int64 \n",
      "\n",
      "Que 3 Sub-Question d:\n",
      "6.5    2\n",
      "6.3    1\n",
      "6.1    1\n",
      "6.4    1\n",
      "Name: TOPIC-NO, dtype: int64 \n",
      "\n",
      "Que 4 Sub-Question d:\n",
      "5.1    3\n",
      "5.2    2\n",
      "Name: TOPIC-NO, dtype: int64 \n",
      "\n",
      "Que 4 Sub-Question d:\n",
      "5.1    3\n",
      "5.2    2\n",
      "Name: TOPIC-NO, dtype: int64 \n",
      "\n",
      "Que 4 Sub-Question d:\n",
      "5.1    3\n",
      "5.2    2\n",
      "Name: TOPIC-NO, dtype: int64 \n",
      "\n",
      "Que 4 Sub-Question d:\n",
      "5.1    3\n",
      "5.2    2\n",
      "Name: TOPIC-NO, dtype: int64 \n",
      "\n",
      "Que 4 Sub-Question d:\n",
      "5.1    3\n",
      "5.2    2\n",
      "Name: TOPIC-NO, dtype: int64 \n",
      "\n",
      "Que 5 Sub-Question d:\n",
      "Series([], Name: TOPIC-NO, dtype: int64) \n",
      "\n",
      "Que 5 Sub-Question d:\n",
      "Series([], Name: TOPIC-NO, dtype: int64) \n",
      "\n",
      "Que 5 Sub-Question d:\n",
      "Series([], Name: TOPIC-NO, dtype: int64) \n",
      "\n",
      "Que 6 Sub-Question d:\n",
      "Series([], Name: TOPIC-NO, dtype: int64) \n",
      "\n",
      "Que 6 Sub-Question d:\n",
      "Series([], Name: TOPIC-NO, dtype: int64) \n",
      "\n",
      "Que 6 Sub-Question d:\n",
      "Series([], Name: TOPIC-NO, dtype: int64) \n",
      "\n",
      "Que 1 Sub-Question e:\n",
      "4.5    2\n",
      "4.3    2\n",
      "4.2    1\n",
      "Name: TOPIC-NO, dtype: int64 \n",
      "\n"
     ]
    },
    {
     "name": "stdout",
     "output_type": "stream",
     "text": [
      "Que 1 Sub-Question e:\n",
      "4.5    2\n",
      "4.3    2\n",
      "4.2    1\n",
      "Name: TOPIC-NO, dtype: int64 \n",
      "\n",
      "Que 1 Sub-Question e:\n",
      "4.5    2\n",
      "4.3    2\n",
      "4.2    1\n",
      "Name: TOPIC-NO, dtype: int64 \n",
      "\n",
      "Que 1 Sub-Question e:\n",
      "4.5    2\n",
      "4.3    2\n",
      "4.2    1\n",
      "Name: TOPIC-NO, dtype: int64 \n",
      "\n",
      "Que 1 Sub-Question e:\n",
      "4.5    2\n",
      "4.3    2\n",
      "4.2    1\n",
      "Name: TOPIC-NO, dtype: int64 \n",
      "\n",
      "Que 1 Sub-Question e:\n",
      "4.5    2\n",
      "4.3    2\n",
      "4.2    1\n",
      "Name: TOPIC-NO, dtype: int64 \n",
      "\n",
      "Que 1 Sub-Question e:\n",
      "4.5    2\n",
      "4.3    2\n",
      "4.2    1\n",
      "Name: TOPIC-NO, dtype: int64 \n",
      "\n",
      "Que 2 Sub-Question e:\n",
      "Series([], Name: TOPIC-NO, dtype: int64) \n",
      "\n",
      "Que 2 Sub-Question e:\n",
      "Series([], Name: TOPIC-NO, dtype: int64) \n",
      "\n",
      "Que 2 Sub-Question e:\n",
      "Series([], Name: TOPIC-NO, dtype: int64) \n",
      "\n",
      "Que 2 Sub-Question e:\n",
      "Series([], Name: TOPIC-NO, dtype: int64) \n",
      "\n",
      "Que 3 Sub-Question e:\n",
      "Series([], Name: TOPIC-NO, dtype: int64) \n",
      "\n",
      "Que 3 Sub-Question e:\n",
      "Series([], Name: TOPIC-NO, dtype: int64) \n",
      "\n",
      "Que 3 Sub-Question e:\n",
      "Series([], Name: TOPIC-NO, dtype: int64) \n",
      "\n",
      "Que 3 Sub-Question e:\n",
      "Series([], Name: TOPIC-NO, dtype: int64) \n",
      "\n",
      "Que 4 Sub-Question e:\n",
      "6.1    4\n",
      "2.4    1\n",
      "Name: TOPIC-NO, dtype: int64 \n",
      "\n",
      "Que 4 Sub-Question e:\n",
      "6.1    4\n",
      "2.4    1\n",
      "Name: TOPIC-NO, dtype: int64 \n",
      "\n",
      "Que 4 Sub-Question e:\n",
      "6.1    4\n",
      "2.4    1\n",
      "Name: TOPIC-NO, dtype: int64 \n",
      "\n",
      "Que 4 Sub-Question e:\n",
      "6.1    4\n",
      "2.4    1\n",
      "Name: TOPIC-NO, dtype: int64 \n",
      "\n",
      "Que 4 Sub-Question e:\n",
      "6.1    4\n",
      "2.4    1\n",
      "Name: TOPIC-NO, dtype: int64 \n",
      "\n",
      "Que 5 Sub-Question e:\n",
      "Series([], Name: TOPIC-NO, dtype: int64) \n",
      "\n",
      "Que 5 Sub-Question e:\n",
      "Series([], Name: TOPIC-NO, dtype: int64) \n",
      "\n",
      "Que 5 Sub-Question e:\n",
      "Series([], Name: TOPIC-NO, dtype: int64) \n",
      "\n",
      "Que 6 Sub-Question e:\n",
      "Series([], Name: TOPIC-NO, dtype: int64) \n",
      "\n",
      "Que 6 Sub-Question e:\n",
      "Series([], Name: TOPIC-NO, dtype: int64) \n",
      "\n",
      "Que 6 Sub-Question e:\n",
      "Series([], Name: TOPIC-NO, dtype: int64) \n",
      "\n",
      "Que 1 Sub-Question f:\n",
      "5.3    2\n",
      "5.2    1\n",
      "4.5    1\n",
      "5.1    1\n",
      "Name: TOPIC-NO, dtype: int64 \n",
      "\n",
      "Que 1 Sub-Question f:\n",
      "5.3    2\n",
      "5.2    1\n",
      "4.5    1\n",
      "5.1    1\n",
      "Name: TOPIC-NO, dtype: int64 \n",
      "\n",
      "Que 1 Sub-Question f:\n",
      "5.3    2\n",
      "5.2    1\n",
      "4.5    1\n",
      "5.1    1\n",
      "Name: TOPIC-NO, dtype: int64 \n",
      "\n",
      "Que 1 Sub-Question f:\n",
      "5.3    2\n",
      "5.2    1\n",
      "4.5    1\n",
      "5.1    1\n",
      "Name: TOPIC-NO, dtype: int64 \n",
      "\n",
      "Que 1 Sub-Question f:\n",
      "5.3    2\n",
      "5.2    1\n",
      "4.5    1\n",
      "5.1    1\n",
      "Name: TOPIC-NO, dtype: int64 \n",
      "\n",
      "Que 1 Sub-Question f:\n",
      "5.3    2\n",
      "5.2    1\n",
      "4.5    1\n",
      "5.1    1\n",
      "Name: TOPIC-NO, dtype: int64 \n",
      "\n",
      "Que 1 Sub-Question f:\n",
      "5.3    2\n",
      "5.2    1\n",
      "4.5    1\n",
      "5.1    1\n",
      "Name: TOPIC-NO, dtype: int64 \n",
      "\n",
      "Que 2 Sub-Question f:\n",
      "Series([], Name: TOPIC-NO, dtype: int64) \n",
      "\n",
      "Que 2 Sub-Question f:\n",
      "Series([], Name: TOPIC-NO, dtype: int64) \n",
      "\n",
      "Que 2 Sub-Question f:\n",
      "Series([], Name: TOPIC-NO, dtype: int64) \n",
      "\n",
      "Que 2 Sub-Question f:\n",
      "Series([], Name: TOPIC-NO, dtype: int64) \n",
      "\n",
      "Que 3 Sub-Question f:\n",
      "Series([], Name: TOPIC-NO, dtype: int64) \n",
      "\n",
      "Que 3 Sub-Question f:\n",
      "Series([], Name: TOPIC-NO, dtype: int64) \n",
      "\n",
      "Que 3 Sub-Question f:\n",
      "Series([], Name: TOPIC-NO, dtype: int64) \n",
      "\n",
      "Que 3 Sub-Question f:\n",
      "Series([], Name: TOPIC-NO, dtype: int64) \n",
      "\n",
      "Que 4 Sub-Question f:\n",
      "Series([], Name: TOPIC-NO, dtype: int64) \n",
      "\n",
      "Que 4 Sub-Question f:\n",
      "Series([], Name: TOPIC-NO, dtype: int64) \n",
      "\n",
      "Que 4 Sub-Question f:\n",
      "Series([], Name: TOPIC-NO, dtype: int64) \n",
      "\n",
      "Que 4 Sub-Question f:\n",
      "Series([], Name: TOPIC-NO, dtype: int64) \n",
      "\n",
      "Que 4 Sub-Question f:\n",
      "Series([], Name: TOPIC-NO, dtype: int64) \n",
      "\n",
      "Que 5 Sub-Question f:\n",
      "Series([], Name: TOPIC-NO, dtype: int64) \n",
      "\n",
      "Que 5 Sub-Question f:\n",
      "Series([], Name: TOPIC-NO, dtype: int64) \n",
      "\n",
      "Que 5 Sub-Question f:\n",
      "Series([], Name: TOPIC-NO, dtype: int64) \n",
      "\n",
      "Que 6 Sub-Question f:\n",
      "Series([], Name: TOPIC-NO, dtype: int64) \n",
      "\n",
      "Que 6 Sub-Question f:\n",
      "Series([], Name: TOPIC-NO, dtype: int64) \n",
      "\n",
      "Que 6 Sub-Question f:\n",
      "Series([], Name: TOPIC-NO, dtype: int64) \n",
      "\n",
      "Que 1 Sub-Question g:\n",
      "6.4    2\n",
      "6.3    1\n",
      "6.5    1\n",
      "6.1    1\n",
      "Name: TOPIC-NO, dtype: int64 \n",
      "\n",
      "Que 1 Sub-Question g:\n",
      "6.4    2\n",
      "6.3    1\n",
      "6.5    1\n",
      "6.1    1\n",
      "Name: TOPIC-NO, dtype: int64 \n",
      "\n",
      "Que 1 Sub-Question g:\n",
      "6.4    2\n",
      "6.3    1\n",
      "6.5    1\n",
      "6.1    1\n",
      "Name: TOPIC-NO, dtype: int64 \n",
      "\n",
      "Que 1 Sub-Question g:\n",
      "6.4    2\n",
      "6.3    1\n",
      "6.5    1\n",
      "6.1    1\n",
      "Name: TOPIC-NO, dtype: int64 \n",
      "\n",
      "Que 1 Sub-Question g:\n",
      "6.4    2\n",
      "6.3    1\n",
      "6.5    1\n",
      "6.1    1\n",
      "Name: TOPIC-NO, dtype: int64 \n",
      "\n",
      "Que 1 Sub-Question g:\n",
      "6.4    2\n",
      "6.3    1\n",
      "6.5    1\n",
      "6.1    1\n",
      "Name: TOPIC-NO, dtype: int64 \n",
      "\n",
      "Que 1 Sub-Question g:\n",
      "6.4    2\n",
      "6.3    1\n",
      "6.5    1\n",
      "6.1    1\n",
      "Name: TOPIC-NO, dtype: int64 \n",
      "\n",
      "Que 2 Sub-Question g:\n",
      "Series([], Name: TOPIC-NO, dtype: int64) \n",
      "\n",
      "Que 2 Sub-Question g:\n",
      "Series([], Name: TOPIC-NO, dtype: int64) \n",
      "\n",
      "Que 2 Sub-Question g:\n",
      "Series([], Name: TOPIC-NO, dtype: int64) \n",
      "\n",
      "Que 2 Sub-Question g:\n",
      "Series([], Name: TOPIC-NO, dtype: int64) \n",
      "\n",
      "Que 3 Sub-Question g:\n",
      "Series([], Name: TOPIC-NO, dtype: int64) \n",
      "\n",
      "Que 3 Sub-Question g:\n",
      "Series([], Name: TOPIC-NO, dtype: int64) \n",
      "\n",
      "Que 3 Sub-Question g:\n",
      "Series([], Name: TOPIC-NO, dtype: int64) \n",
      "\n",
      "Que 3 Sub-Question g:\n",
      "Series([], Name: TOPIC-NO, dtype: int64) \n",
      "\n",
      "Que 4 Sub-Question g:\n",
      "Series([], Name: TOPIC-NO, dtype: int64) \n",
      "\n",
      "Que 4 Sub-Question g:\n",
      "Series([], Name: TOPIC-NO, dtype: int64) \n",
      "\n",
      "Que 4 Sub-Question g:\n",
      "Series([], Name: TOPIC-NO, dtype: int64) \n",
      "\n",
      "Que 4 Sub-Question g:\n",
      "Series([], Name: TOPIC-NO, dtype: int64) \n",
      "\n",
      "Que 4 Sub-Question g:\n",
      "Series([], Name: TOPIC-NO, dtype: int64) \n",
      "\n",
      "Que 5 Sub-Question g:\n",
      "Series([], Name: TOPIC-NO, dtype: int64) \n",
      "\n",
      "Que 5 Sub-Question g:\n",
      "Series([], Name: TOPIC-NO, dtype: int64) \n",
      "\n",
      "Que 5 Sub-Question g:\n",
      "Series([], Name: TOPIC-NO, dtype: int64) \n",
      "\n",
      "Que 6 Sub-Question g:\n",
      "Series([], Name: TOPIC-NO, dtype: int64) \n",
      "\n",
      "Que 6 Sub-Question g:\n",
      "Series([], Name: TOPIC-NO, dtype: int64) \n",
      "\n",
      "Que 6 Sub-Question g:\n",
      "Series([], Name: TOPIC-NO, dtype: int64) \n",
      "\n"
     ]
    }
   ],
   "source": [
    "subque = ['a','b','c','d','e','f','g']\n",
    "\n",
    "for i in subque:\n",
    "    for o in [1,1,1,1,1,1,1,2,2,2,2,3,3,3,3,4,4,4,4,4,5,5,5,6,6,6]:\n",
    "        perticular_que_topics = df[(df['QUE']==o) & (df['SUB-QUE']==i)]\n",
    "        perticular_que_freq_topics = perticular_que_topics[\"TOPIC-NO\"].value_counts()\n",
    "        print(\"Que\",o,f\"Sub-Question {i}:\")\n",
    "        print(perticular_que_freq_topics,\"\\n\")"
   ]
  },
  {
   "cell_type": "markdown",
   "id": "51217159",
   "metadata": {},
   "source": [
    "## Data Preprocessing + Feature Engineering"
   ]
  },
  {
   "cell_type": "code",
   "execution_count": 155,
   "id": "dab3c038",
   "metadata": {},
   "outputs": [
    {
     "data": {
      "text/plain": [
       "YEAR          int64\n",
       "QUE           int64\n",
       "SUB-QUE      object\n",
       "MARKS         int64\n",
       "UNIT          int64\n",
       "TOPIC-NO    float64\n",
       "TOPIC        object\n",
       "dtype: object"
      ]
     },
     "execution_count": 155,
     "metadata": {},
     "output_type": "execute_result"
    }
   ],
   "source": [
    "df.dtypes"
   ]
  },
  {
   "cell_type": "code",
   "execution_count": 63,
   "id": "fc8d61be",
   "metadata": {},
   "outputs": [],
   "source": [
    "df['TOPIC-NO']=df['TOPIC-NO'].astype('object')"
   ]
  },
  {
   "cell_type": "code",
   "execution_count": 64,
   "id": "3cd8029c",
   "metadata": {},
   "outputs": [
    {
     "data": {
      "text/plain": [
       "YEAR         int64\n",
       "QUE          int64\n",
       "SUB-QUE     object\n",
       "MARKS        int64\n",
       "UNIT         int64\n",
       "TOPIC-NO    object\n",
       "dtype: object"
      ]
     },
     "execution_count": 64,
     "metadata": {},
     "output_type": "execute_result"
    }
   ],
   "source": [
    "df.dtypes"
   ]
  },
  {
   "cell_type": "markdown",
   "id": "5a76566a",
   "metadata": {},
   "source": [
    "#### Outliers"
   ]
  },
  {
   "cell_type": "raw",
   "id": "e9dcad50",
   "metadata": {},
   "source": [
    "There is only Topic Number and Year Therefore No outlier Removed"
   ]
  },
  {
   "cell_type": "markdown",
   "id": "f10ded6a",
   "metadata": {},
   "source": [
    "#### VIF"
   ]
  },
  {
   "cell_type": "raw",
   "id": "a7053c3d",
   "metadata": {},
   "source": [
    "no need of vif"
   ]
  },
  {
   "cell_type": "code",
   "execution_count": 29,
   "id": "a5e2cdc0",
   "metadata": {
    "scrolled": false
   },
   "outputs": [
    {
     "data": {
      "text/html": [
       "<div>\n",
       "<style scoped>\n",
       "    .dataframe tbody tr th:only-of-type {\n",
       "        vertical-align: middle;\n",
       "    }\n",
       "\n",
       "    .dataframe tbody tr th {\n",
       "        vertical-align: top;\n",
       "    }\n",
       "\n",
       "    .dataframe thead th {\n",
       "        text-align: right;\n",
       "    }\n",
       "</style>\n",
       "<table border=\"1\" class=\"dataframe\">\n",
       "  <thead>\n",
       "    <tr style=\"text-align: right;\">\n",
       "      <th></th>\n",
       "      <th>YEAR</th>\n",
       "      <th>QUE</th>\n",
       "      <th>SUB-QUE</th>\n",
       "      <th>MARKS</th>\n",
       "      <th>UNIT</th>\n",
       "      <th>TOPIC-NO</th>\n",
       "      <th>TOPIC</th>\n",
       "    </tr>\n",
       "  </thead>\n",
       "  <tbody>\n",
       "    <tr>\n",
       "      <th>0</th>\n",
       "      <td>2022</td>\n",
       "      <td>1</td>\n",
       "      <td>a</td>\n",
       "      <td>2</td>\n",
       "      <td>1</td>\n",
       "      <td>1.3</td>\n",
       "      <td>Series and parallel magnetic circuits</td>\n",
       "    </tr>\n",
       "    <tr>\n",
       "      <th>1</th>\n",
       "      <td>2022</td>\n",
       "      <td>1</td>\n",
       "      <td>b</td>\n",
       "      <td>2</td>\n",
       "      <td>2</td>\n",
       "      <td>2.2</td>\n",
       "      <td>Single phase A.C. sinusoidal A.C. wave: instan...</td>\n",
       "    </tr>\n",
       "    <tr>\n",
       "      <th>2</th>\n",
       "      <td>2022</td>\n",
       "      <td>1</td>\n",
       "      <td>c</td>\n",
       "      <td>2</td>\n",
       "      <td>3</td>\n",
       "      <td>3.3</td>\n",
       "      <td>Phase sequence and balanced and unbalanced load</td>\n",
       "    </tr>\n",
       "    <tr>\n",
       "      <th>3</th>\n",
       "      <td>2022</td>\n",
       "      <td>1</td>\n",
       "      <td>d</td>\n",
       "      <td>2</td>\n",
       "      <td>4</td>\n",
       "      <td>4.1</td>\n",
       "      <td>Transformer: Working principle, emf equation, ...</td>\n",
       "    </tr>\n",
       "    <tr>\n",
       "      <th>4</th>\n",
       "      <td>2022</td>\n",
       "      <td>1</td>\n",
       "      <td>e</td>\n",
       "      <td>2</td>\n",
       "      <td>4</td>\n",
       "      <td>4.5</td>\n",
       "      <td>Types of D.C. motors, schematic diagram, 1,  s...</td>\n",
       "    </tr>\n",
       "  </tbody>\n",
       "</table>\n",
       "</div>"
      ],
      "text/plain": [
       "   YEAR  QUE SUB-QUE  MARKS  UNIT  TOPIC-NO  \\\n",
       "0  2022    1       a      2     1       1.3   \n",
       "1  2022    1       b      2     2       2.2   \n",
       "2  2022    1       c      2     3       3.3   \n",
       "3  2022    1       d      2     4       4.1   \n",
       "4  2022    1       e      2     4       4.5   \n",
       "\n",
       "                                               TOPIC  \n",
       "0              Series and parallel magnetic circuits  \n",
       "1  Single phase A.C. sinusoidal A.C. wave: instan...  \n",
       "2    Phase sequence and balanced and unbalanced load  \n",
       "3  Transformer: Working principle, emf equation, ...  \n",
       "4  Types of D.C. motors, schematic diagram, 1,  s...  "
      ]
     },
     "execution_count": 29,
     "metadata": {},
     "output_type": "execute_result"
    }
   ],
   "source": [
    "df.head()"
   ]
  },
  {
   "cell_type": "markdown",
   "id": "17b39ecc",
   "metadata": {},
   "source": [
    "#### Dropping Column"
   ]
  },
  {
   "cell_type": "code",
   "execution_count": 156,
   "id": "b933f45f",
   "metadata": {},
   "outputs": [],
   "source": [
    "topic_num = pd.DataFrame(df['TOPIC-NO'])"
   ]
  },
  {
   "cell_type": "code",
   "execution_count": 157,
   "id": "6e8a84b7",
   "metadata": {},
   "outputs": [],
   "source": [
    "df.drop(['TOPIC-NO'],axis=1,inplace=True)"
   ]
  },
  {
   "cell_type": "code",
   "execution_count": 158,
   "id": "1aa366e2",
   "metadata": {},
   "outputs": [
    {
     "data": {
      "text/plain": [
       "Index(['YEAR', 'QUE', 'SUB-QUE', 'MARKS', 'UNIT', 'TOPIC'], dtype='object')"
      ]
     },
     "execution_count": 158,
     "metadata": {},
     "output_type": "execute_result"
    }
   ],
   "source": [
    "df.columns"
   ]
  },
  {
   "cell_type": "markdown",
   "id": "e3c2be40",
   "metadata": {},
   "source": [
    "#### SKEW"
   ]
  },
  {
   "cell_type": "code",
   "execution_count": 132,
   "id": "a905899b",
   "metadata": {},
   "outputs": [
    {
     "data": {
      "text/plain": [
       "<AxesSubplot:xlabel='TOPIC-NO', ylabel='Density'>"
      ]
     },
     "execution_count": 132,
     "metadata": {},
     "output_type": "execute_result"
    },
    {
     "data": {
      "image/png": "[encoded data removed]",
      "text/plain": [
       "<Figure size 640x480 with 1 Axes>"
      ]
     },
     "metadata": {},
     "output_type": "display_data"
    }
   ],
   "source": [
    "sns.kdeplot(df['TOPIC-NO'])"
   ]
  },
  {
   "cell_type": "markdown",
   "id": "637fea68",
   "metadata": {},
   "source": [
    "#### Label Encoding`"
   ]
  },
  {
   "cell_type": "code",
   "execution_count": 12,
   "id": "d5db2344",
   "metadata": {},
   "outputs": [],
   "source": [
    "LE= LabelEncoder()"
   ]
  },
  {
   "cell_type": "code",
   "execution_count": 6,
   "id": "680efb3e",
   "metadata": {},
   "outputs": [
    {
     "name": "stdout",
     "output_type": "stream",
     "text": [
      "Value counts before label encoding for column :  SUB-QUE\n",
      "a    30\n",
      "b    30\n",
      "c    30\n",
      "d    20\n",
      "e    10\n",
      "f     5\n",
      "g     5\n",
      "Name: SUB-QUE, dtype: int64\n",
      "Value counts after label encoding for column :  SUB-QUE\n",
      "0    30\n",
      "1    30\n",
      "2    30\n",
      "3    20\n",
      "4    10\n",
      "5     5\n",
      "6     5\n",
      "Name: SUB-QUE, dtype: int64\n",
      "Value counts before label encoding for column :  TOPIC\n",
      "Universal motor: principle of operation. reversal of rotation and applications                                                                                                                                             10\n",
      "Auto-transformer - comparison with two winding transformer, applications                                                                                                                                                    9\n",
      "FHP: Schematic representation, principle of operation and applications of: split phase Induction motor, capacitor start induction run. capacitor start capacitor run and permanent capacitor motors, shaded pole motors     9\n",
      "Transformer: Working principle, emf equation, Voltage ratio, current ratio and transformation ratio, losses                                                                                                                 8\n",
      "Fuse: Operation, types                                                                                                                                                                                                      7\n",
      "Earthing:  Importance of earthing, factors affecting earthing                                                                                                                                                               7\n",
      "Single phase A.C. sinusoidal A.C. wave: instantaneous value, cycle, amplitude, time period, frequency, angular frequency, R.M.S. value, Average value for sinusoidal waveform, Form factor, Peak factor                     7\n",
      "Types of D.C. motors, schematic diagram, 1,  series and compound motors                                                                                                                                                     6\n",
      "MCB, MCCB and ELCB: Operation and general specifications                                                                                                                                                                    6\n",
      "Stepper motor: types, principle of working and applications                                                                                                                                                                 5\n",
      "Faraday's laws of electromagnetic induction, Fleming's right hand rule, induction, Fleming's right hand rule, Lenz's law L5  Dynamically and statically induced emf, self and mutual inductance                             5\n",
      "Methods of reducing earth resistance, LE rules relevant to earthing                                                                                                                                                         4\n",
      "Phase and line current, phase and line voltage in star connected and delta connected balanced system                                                                                                                        4\n",
      "Electric and magnetic circuits                                                                                                                                                                                              4\n",
      "Magnetic flux, flux density, magneto motive force, magnetic field strength, permeability, reluctance                                                                                                                        4\n",
      "DC motor construction - parts its function and material used                                                                                                                                                                3\n",
      "Pure resistance, inductance and capacitance in A.C. circuit                                                                                                                                                                 3\n",
      "B-H curve and hysteresis, hysteresis loop and hysteresis loss.                                                                                                                                                              3\n",
      "Vector representation of sinusoidal A.C. quantity, Phase angle, phase difference, concept of lagging and leading - by waveforms, mathematical equations and phasors                                                         3\n",
      "3 phase system over 1 phase system                                                                                                                                                                                          3\n",
      "Phase sequence and balanced and unbalanced load                                                                                                                                                                             3\n",
      "DC motor construction - parts its function and material used                                                                                                                                                                3\n",
      "A.C, and D.C. quantity, advantages of A.C. over D.C.                                                                                                                                                                        3\n",
      "Current, power, power factor in a 3 phase balanced system                                                                                                                                                                   2\n",
      "Dynamically and statically induced emf, self and mutual inductance                                                                                                                                                          2\n",
      "3-phase emf generation and its wave form                                                                                                                                                                                    2\n",
      "Series and parallel magnetic circuits                                                                                                                                                                                       2\n",
      "Star and delta connections                                                                                                                                                                                                  1\n",
      "DC motor -Principle of operation                                                                                                                                                                                            1\n",
      "Power - active, reactive and apparent, power triangle                                                                                                                                                                       1\n",
      "Name: TOPIC, dtype: int64\n",
      "Value counts after label encoding for column :  TOPIC\n",
      "28    10\n",
      "3      9\n",
      "12     9\n",
      "26     8\n",
      "14     7\n",
      "10     7\n",
      "23     7\n",
      "27     6\n",
      "15     6\n",
      "25     5\n",
      "13     5\n",
      "17     4\n",
      "18     4\n",
      "11     4\n",
      "16     4\n",
      "7      3\n",
      "21     3\n",
      "4      3\n",
      "29     3\n",
      "0      3\n",
      "19     3\n",
      "8      3\n",
      "2      3\n",
      "5      2\n",
      "9      2\n",
      "1      2\n",
      "22     2\n",
      "24     1\n",
      "6      1\n",
      "20     1\n",
      "Name: TOPIC, dtype: int64\n"
     ]
    }
   ],
   "source": [
    "obj_var = df.select_dtypes(include='object')\n",
    "\n",
    "for col in df.select_dtypes(include='object'):\n",
    "    print(\"Value counts before label encoding for column : \",col)\n",
    "    print(df[col].value_counts())\n",
    "    # Perform label encoding\n",
    "    le = LabelEncoder()\n",
    "    df[col] = le.fit_transform(df[col])\n",
    "\n",
    "    # Print the value counts after label encoding\n",
    "    print(\"Value counts after label encoding for column : \",col)\n",
    "    print(df[col].value_counts())"
   ]
  },
  {
   "cell_type": "code",
   "execution_count": 7,
   "id": "a45b79e1",
   "metadata": {},
   "outputs": [
    {
     "data": {
      "text/plain": [
       "YEAR          int64\n",
       "QUE           int64\n",
       "SUB-QUE       int32\n",
       "MARKS         int64\n",
       "UNIT          int64\n",
       "TOPIC-NO    float64\n",
       "TOPIC         int32\n",
       "dtype: object"
      ]
     },
     "execution_count": 7,
     "metadata": {},
     "output_type": "execute_result"
    }
   ],
   "source": [
    "df.dtypes"
   ]
  },
  {
   "cell_type": "markdown",
   "id": "4a4d92c5",
   "metadata": {},
   "source": [
    "#### Train Test Split"
   ]
  },
  {
   "cell_type": "code",
   "execution_count": 14,
   "id": "6d02a3df",
   "metadata": {},
   "outputs": [],
   "source": [
    "x = df.iloc[:,:-1]"
   ]
  },
  {
   "cell_type": "code",
   "execution_count": 15,
   "id": "a218b40c",
   "metadata": {},
   "outputs": [],
   "source": [
    "y = df.iloc[:,-1]"
   ]
  },
  {
   "cell_type": "code",
   "execution_count": 16,
   "id": "0583afcf",
   "metadata": {},
   "outputs": [
    {
     "data": {
      "text/html": [
       "<div>\n",
       "<style scoped>\n",
       "    .dataframe tbody tr th:only-of-type {\n",
       "        vertical-align: middle;\n",
       "    }\n",
       "\n",
       "    .dataframe tbody tr th {\n",
       "        vertical-align: top;\n",
       "    }\n",
       "\n",
       "    .dataframe thead th {\n",
       "        text-align: right;\n",
       "    }\n",
       "</style>\n",
       "<table border=\"1\" class=\"dataframe\">\n",
       "  <thead>\n",
       "    <tr style=\"text-align: right;\">\n",
       "      <th></th>\n",
       "      <th>YEAR</th>\n",
       "      <th>QUE</th>\n",
       "      <th>SUB-QUE</th>\n",
       "      <th>MARKS</th>\n",
       "      <th>UNIT</th>\n",
       "      <th>TOPIC-NO</th>\n",
       "    </tr>\n",
       "  </thead>\n",
       "  <tbody>\n",
       "    <tr>\n",
       "      <th>0</th>\n",
       "      <td>2022</td>\n",
       "      <td>1</td>\n",
       "      <td>0</td>\n",
       "      <td>2</td>\n",
       "      <td>1</td>\n",
       "      <td>1.3</td>\n",
       "    </tr>\n",
       "    <tr>\n",
       "      <th>1</th>\n",
       "      <td>2022</td>\n",
       "      <td>1</td>\n",
       "      <td>1</td>\n",
       "      <td>2</td>\n",
       "      <td>2</td>\n",
       "      <td>2.2</td>\n",
       "    </tr>\n",
       "    <tr>\n",
       "      <th>2</th>\n",
       "      <td>2022</td>\n",
       "      <td>1</td>\n",
       "      <td>2</td>\n",
       "      <td>2</td>\n",
       "      <td>3</td>\n",
       "      <td>3.3</td>\n",
       "    </tr>\n",
       "    <tr>\n",
       "      <th>3</th>\n",
       "      <td>2022</td>\n",
       "      <td>1</td>\n",
       "      <td>3</td>\n",
       "      <td>2</td>\n",
       "      <td>4</td>\n",
       "      <td>4.1</td>\n",
       "    </tr>\n",
       "    <tr>\n",
       "      <th>4</th>\n",
       "      <td>2022</td>\n",
       "      <td>1</td>\n",
       "      <td>4</td>\n",
       "      <td>2</td>\n",
       "      <td>4</td>\n",
       "      <td>4.5</td>\n",
       "    </tr>\n",
       "    <tr>\n",
       "      <th>...</th>\n",
       "      <td>...</td>\n",
       "      <td>...</td>\n",
       "      <td>...</td>\n",
       "      <td>...</td>\n",
       "      <td>...</td>\n",
       "      <td>...</td>\n",
       "    </tr>\n",
       "    <tr>\n",
       "      <th>125</th>\n",
       "      <td>2019</td>\n",
       "      <td>5</td>\n",
       "      <td>1</td>\n",
       "      <td>6</td>\n",
       "      <td>3</td>\n",
       "      <td>3.4</td>\n",
       "    </tr>\n",
       "    <tr>\n",
       "      <th>126</th>\n",
       "      <td>2019</td>\n",
       "      <td>5</td>\n",
       "      <td>2</td>\n",
       "      <td>6</td>\n",
       "      <td>4</td>\n",
       "      <td>4.5</td>\n",
       "    </tr>\n",
       "    <tr>\n",
       "      <th>127</th>\n",
       "      <td>2019</td>\n",
       "      <td>6</td>\n",
       "      <td>0</td>\n",
       "      <td>6</td>\n",
       "      <td>5</td>\n",
       "      <td>5.3</td>\n",
       "    </tr>\n",
       "    <tr>\n",
       "      <th>128</th>\n",
       "      <td>2019</td>\n",
       "      <td>6</td>\n",
       "      <td>1</td>\n",
       "      <td>6</td>\n",
       "      <td>6</td>\n",
       "      <td>6.4</td>\n",
       "    </tr>\n",
       "    <tr>\n",
       "      <th>129</th>\n",
       "      <td>2019</td>\n",
       "      <td>6</td>\n",
       "      <td>2</td>\n",
       "      <td>6</td>\n",
       "      <td>6</td>\n",
       "      <td>6.3</td>\n",
       "    </tr>\n",
       "  </tbody>\n",
       "</table>\n",
       "<p>130 rows × 6 columns</p>\n",
       "</div>"
      ],
      "text/plain": [
       "     YEAR  QUE  SUB-QUE  MARKS  UNIT  TOPIC-NO\n",
       "0    2022    1        0      2     1       1.3\n",
       "1    2022    1        1      2     2       2.2\n",
       "2    2022    1        2      2     3       3.3\n",
       "3    2022    1        3      2     4       4.1\n",
       "4    2022    1        4      2     4       4.5\n",
       "..    ...  ...      ...    ...   ...       ...\n",
       "125  2019    5        1      6     3       3.4\n",
       "126  2019    5        2      6     4       4.5\n",
       "127  2019    6        0      6     5       5.3\n",
       "128  2019    6        1      6     6       6.4\n",
       "129  2019    6        2      6     6       6.3\n",
       "\n",
       "[130 rows x 6 columns]"
      ]
     },
     "execution_count": 16,
     "metadata": {},
     "output_type": "execute_result"
    }
   ],
   "source": [
    "x"
   ]
  },
  {
   "cell_type": "code",
   "execution_count": 17,
   "id": "5ec1f9f1",
   "metadata": {},
   "outputs": [
    {
     "data": {
      "text/plain": [
       "0      22\n",
       "1      23\n",
       "2      19\n",
       "3      26\n",
       "4      27\n",
       "       ..\n",
       "125    18\n",
       "126    27\n",
       "127    25\n",
       "128    10\n",
       "129    15\n",
       "Name: TOPIC, Length: 130, dtype: int32"
      ]
     },
     "execution_count": 17,
     "metadata": {},
     "output_type": "execute_result"
    }
   ],
   "source": [
    "y"
   ]
  },
  {
   "cell_type": "code",
   "execution_count": 18,
   "id": "02bc5fef",
   "metadata": {},
   "outputs": [],
   "source": [
    "x_train,x_test,y_train,y_test=train_test_split(x,y,test_size=.20,random_state=42)"
   ]
  },
  {
   "cell_type": "code",
   "execution_count": 19,
   "id": "c32871a6",
   "metadata": {},
   "outputs": [
    {
     "data": {
      "text/html": [
       "<div>\n",
       "<style scoped>\n",
       "    .dataframe tbody tr th:only-of-type {\n",
       "        vertical-align: middle;\n",
       "    }\n",
       "\n",
       "    .dataframe tbody tr th {\n",
       "        vertical-align: top;\n",
       "    }\n",
       "\n",
       "    .dataframe thead th {\n",
       "        text-align: right;\n",
       "    }\n",
       "</style>\n",
       "<table border=\"1\" class=\"dataframe\">\n",
       "  <thead>\n",
       "    <tr style=\"text-align: right;\">\n",
       "      <th></th>\n",
       "      <th>YEAR</th>\n",
       "      <th>QUE</th>\n",
       "      <th>SUB-QUE</th>\n",
       "      <th>MARKS</th>\n",
       "      <th>UNIT</th>\n",
       "      <th>TOPIC-NO</th>\n",
       "    </tr>\n",
       "  </thead>\n",
       "  <tbody>\n",
       "    <tr>\n",
       "      <th>70</th>\n",
       "      <td>2020</td>\n",
       "      <td>4</td>\n",
       "      <td>3</td>\n",
       "      <td>4</td>\n",
       "      <td>5</td>\n",
       "      <td>5.2</td>\n",
       "    </tr>\n",
       "    <tr>\n",
       "      <th>78</th>\n",
       "      <td>2019</td>\n",
       "      <td>1</td>\n",
       "      <td>0</td>\n",
       "      <td>2</td>\n",
       "      <td>1</td>\n",
       "      <td>1.4</td>\n",
       "    </tr>\n",
       "    <tr>\n",
       "      <th>47</th>\n",
       "      <td>2018</td>\n",
       "      <td>5</td>\n",
       "      <td>1</td>\n",
       "      <td>6</td>\n",
       "      <td>3</td>\n",
       "      <td>3.4</td>\n",
       "    </tr>\n",
       "    <tr>\n",
       "      <th>0</th>\n",
       "      <td>2022</td>\n",
       "      <td>1</td>\n",
       "      <td>0</td>\n",
       "      <td>2</td>\n",
       "      <td>1</td>\n",
       "      <td>1.3</td>\n",
       "    </tr>\n",
       "    <tr>\n",
       "      <th>12</th>\n",
       "      <td>2022</td>\n",
       "      <td>3</td>\n",
       "      <td>1</td>\n",
       "      <td>4</td>\n",
       "      <td>4</td>\n",
       "      <td>4.3</td>\n",
       "    </tr>\n",
       "    <tr>\n",
       "      <th>...</th>\n",
       "      <td>...</td>\n",
       "      <td>...</td>\n",
       "      <td>...</td>\n",
       "      <td>...</td>\n",
       "      <td>...</td>\n",
       "      <td>...</td>\n",
       "    </tr>\n",
       "    <tr>\n",
       "      <th>71</th>\n",
       "      <td>2020</td>\n",
       "      <td>4</td>\n",
       "      <td>4</td>\n",
       "      <td>4</td>\n",
       "      <td>6</td>\n",
       "      <td>6.1</td>\n",
       "    </tr>\n",
       "    <tr>\n",
       "      <th>106</th>\n",
       "      <td>2019</td>\n",
       "      <td>1</td>\n",
       "      <td>2</td>\n",
       "      <td>2</td>\n",
       "      <td>3</td>\n",
       "      <td>3.1</td>\n",
       "    </tr>\n",
       "    <tr>\n",
       "      <th>14</th>\n",
       "      <td>2022</td>\n",
       "      <td>3</td>\n",
       "      <td>3</td>\n",
       "      <td>4</td>\n",
       "      <td>6</td>\n",
       "      <td>6.5</td>\n",
       "    </tr>\n",
       "    <tr>\n",
       "      <th>92</th>\n",
       "      <td>2019</td>\n",
       "      <td>3</td>\n",
       "      <td>3</td>\n",
       "      <td>4</td>\n",
       "      <td>6</td>\n",
       "      <td>6.1</td>\n",
       "    </tr>\n",
       "    <tr>\n",
       "      <th>102</th>\n",
       "      <td>2019</td>\n",
       "      <td>6</td>\n",
       "      <td>1</td>\n",
       "      <td>6</td>\n",
       "      <td>6</td>\n",
       "      <td>6.3</td>\n",
       "    </tr>\n",
       "  </tbody>\n",
       "</table>\n",
       "<p>104 rows × 6 columns</p>\n",
       "</div>"
      ],
      "text/plain": [
       "     YEAR  QUE  SUB-QUE  MARKS  UNIT  TOPIC-NO\n",
       "70   2020    4        3      4     5       5.2\n",
       "78   2019    1        0      2     1       1.4\n",
       "47   2018    5        1      6     3       3.4\n",
       "0    2022    1        0      2     1       1.3\n",
       "12   2022    3        1      4     4       4.3\n",
       "..    ...  ...      ...    ...   ...       ...\n",
       "71   2020    4        4      4     6       6.1\n",
       "106  2019    1        2      2     3       3.1\n",
       "14   2022    3        3      4     6       6.5\n",
       "92   2019    3        3      4     6       6.1\n",
       "102  2019    6        1      6     6       6.3\n",
       "\n",
       "[104 rows x 6 columns]"
      ]
     },
     "execution_count": 19,
     "metadata": {},
     "output_type": "execute_result"
    }
   ],
   "source": [
    "x_train"
   ]
  },
  {
   "cell_type": "code",
   "execution_count": 20,
   "id": "4f62887d",
   "metadata": {},
   "outputs": [
    {
     "data": {
      "text/plain": [
       "55     26\n",
       "40     15\n",
       "19     14\n",
       "31     25\n",
       "115    11\n",
       "56      7\n",
       "69     28\n",
       "105     2\n",
       "81      8\n",
       "26     13\n",
       "95     25\n",
       "27     29\n",
       "64      6\n",
       "4      27\n",
       "97     21\n",
       "100    18\n",
       "36      8\n",
       "80     19\n",
       "93     11\n",
       "84     10\n",
       "18     12\n",
       "10      3\n",
       "120     3\n",
       "11     16\n",
       "126    27\n",
       "45     14\n",
       "Name: TOPIC, dtype: int32"
      ]
     },
     "execution_count": 20,
     "metadata": {},
     "output_type": "execute_result"
    }
   ],
   "source": [
    "y_test"
   ]
  },
  {
   "cell_type": "markdown",
   "id": "d8d5a40c",
   "metadata": {},
   "source": [
    "### Using Algorithms"
   ]
  },
  {
   "cell_type": "markdown",
   "id": "943af60b",
   "metadata": {},
   "source": [
    "#### Logistic Reg"
   ]
  },
  {
   "cell_type": "code",
   "execution_count": 21,
   "id": "2fd59fcb",
   "metadata": {},
   "outputs": [],
   "source": [
    "lr = LogisticRegression()"
   ]
  },
  {
   "cell_type": "code",
   "execution_count": 22,
   "id": "17ab8ce3",
   "metadata": {},
   "outputs": [
    {
     "name": "stderr",
     "output_type": "stream",
     "text": [
      "C:\\Users\\user\\anaconda3\\lib\\site-packages\\sklearn\\linear_model\\_logistic.py:814: ConvergenceWarning: lbfgs failed to converge (status=1):\n",
      "STOP: TOTAL NO. of ITERATIONS REACHED LIMIT.\n",
      "\n",
      "Increase the number of iterations (max_iter) or scale the data as shown in:\n",
      "    https://scikit-learn.org/stable/modules/preprocessing.html\n",
      "Please also refer to the documentation for alternative solver options:\n",
      "    https://scikit-learn.org/stable/modules/linear_model.html#logistic-regression\n",
      "  n_iter_i = _check_optimize_result(\n"
     ]
    },
    {
     "data": {
      "text/plain": [
       "LogisticRegression()"
      ]
     },
     "execution_count": 22,
     "metadata": {},
     "output_type": "execute_result"
    }
   ],
   "source": [
    "lr.fit(x_train, y_train)"
   ]
  },
  {
   "cell_type": "code",
   "execution_count": 23,
   "id": "421ca133",
   "metadata": {},
   "outputs": [],
   "source": [
    "y_pred = lr.predict(x_test)"
   ]
  },
  {
   "cell_type": "code",
   "execution_count": 24,
   "id": "d8ecf3dc",
   "metadata": {},
   "outputs": [
    {
     "data": {
      "text/plain": [
       "0.23076923076923078"
      ]
     },
     "execution_count": 24,
     "metadata": {},
     "output_type": "execute_result"
    }
   ],
   "source": [
    "accuracy_score(y_test,y_pred)"
   ]
  },
  {
   "cell_type": "markdown",
   "id": "c942c0b4",
   "metadata": {},
   "source": [
    "#### Cross Validating Models"
   ]
  },
  {
   "cell_type": "code",
   "execution_count": 25,
   "id": "1d6fecea",
   "metadata": {},
   "outputs": [],
   "source": [
    "knn= KNeighborsClassifier()\n",
    "dtc= DecisionTreeClassifier()\n",
    "svc = SVC()\n",
    "RFC=RandomForestClassifier()\n",
    "GBC=GradientBoostingClassifier()\n",
    "ABC=AdaBoostClassifier()"
   ]
  },
  {
   "cell_type": "code",
   "execution_count": 26,
   "id": "56bf5825",
   "metadata": {},
   "outputs": [
    {
     "data": {
      "text/plain": [
       "VotingClassifier(estimators=[KNeighborsClassifier(), DecisionTreeClassifier(),\n",
       "                             SVC(), RandomForestClassifier(),\n",
       "                             GradientBoostingClassifier(),\n",
       "                             AdaBoostClassifier()])"
      ]
     },
     "execution_count": 26,
     "metadata": {},
     "output_type": "execute_result"
    }
   ],
   "source": [
    "estimators=[knn,dtc,svc,RFC,GBC,ABC]\n",
    "VotingClassifier(estimators=estimators)"
   ]
  },
  {
   "cell_type": "code",
   "execution_count": 27,
   "id": "5c04aeee",
   "metadata": {},
   "outputs": [],
   "source": [
    "models = [dtc,svc,knn,RFC,GBC,ABC]"
   ]
  },
  {
   "cell_type": "code",
   "execution_count": 28,
   "id": "24ae58d1",
   "metadata": {},
   "outputs": [
    {
     "name": "stderr",
     "output_type": "stream",
     "text": [
      "C:\\Users\\user\\anaconda3\\lib\\site-packages\\sklearn\\model_selection\\_split.py:676: UserWarning: The least populated class in y has only 1 members, which is less than n_splits=9.\n",
      "  warnings.warn(\n",
      "C:\\Users\\user\\anaconda3\\lib\\site-packages\\sklearn\\model_selection\\_split.py:676: UserWarning: The least populated class in y has only 1 members, which is less than n_splits=9.\n",
      "  warnings.warn(\n",
      "C:\\Users\\user\\anaconda3\\lib\\site-packages\\sklearn\\model_selection\\_split.py:676: UserWarning: The least populated class in y has only 1 members, which is less than n_splits=9.\n",
      "  warnings.warn(\n",
      "C:\\Users\\user\\anaconda3\\lib\\site-packages\\sklearn\\model_selection\\_split.py:676: UserWarning: The least populated class in y has only 1 members, which is less than n_splits=9.\n",
      "  warnings.warn(\n"
     ]
    },
    {
     "name": "stdout",
     "output_type": "stream",
     "text": [
      "cross_val_score of  DecisionTreeClassifier() [0.8        0.8        0.93333333 0.93333333 0.92857143 0.85714286\n",
      " 0.85714286 0.92857143 0.78571429]\n",
      "mean cross_val_score DecisionTreeClassifier() 0.9068783068783068\n",
      "\n",
      "\n",
      "cross_val_score of  SVC() [0.2        0.06666667 0.06666667 0.06666667 0.07142857 0.07142857\n",
      " 0.07142857 0.07142857 0.07142857]\n",
      "mean cross_val_score SVC() 0.08412698412698412\n",
      "\n",
      "\n",
      "cross_val_score of  KNeighborsClassifier() [0.33333333 0.13333333 0.4        0.33333333 0.35714286 0.28571429\n",
      " 0.14285714 0.35714286 0.14285714]\n"
     ]
    },
    {
     "name": "stderr",
     "output_type": "stream",
     "text": [
      "C:\\Users\\user\\anaconda3\\lib\\site-packages\\sklearn\\neighbors\\_classification.py:228: FutureWarning: Unlike other reduction functions (e.g. `skew`, `kurtosis`), the default behavior of `mode` typically preserves the axis it acts along. In SciPy 1.11.0, this behavior will change: the default value of `keepdims` will become False, the `axis` over which the statistic is taken will be eliminated, and the value None will no longer be accepted. Set `keepdims` to True or False to avoid this warning.\n",
      "  mode, _ = stats.mode(_y[neigh_ind, k], axis=1)\n",
      "C:\\Users\\user\\anaconda3\\lib\\site-packages\\sklearn\\model_selection\\_split.py:676: UserWarning: The least populated class in y has only 1 members, which is less than n_splits=9.\n",
      "  warnings.warn(\n",
      "C:\\Users\\user\\anaconda3\\lib\\site-packages\\sklearn\\neighbors\\_classification.py:228: FutureWarning: Unlike other reduction functions (e.g. `skew`, `kurtosis`), the default behavior of `mode` typically preserves the axis it acts along. In SciPy 1.11.0, this behavior will change: the default value of `keepdims` will become False, the `axis` over which the statistic is taken will be eliminated, and the value None will no longer be accepted. Set `keepdims` to True or False to avoid this warning.\n",
      "  mode, _ = stats.mode(_y[neigh_ind, k], axis=1)\n",
      "C:\\Users\\user\\anaconda3\\lib\\site-packages\\sklearn\\neighbors\\_classification.py:228: FutureWarning: Unlike other reduction functions (e.g. `skew`, `kurtosis`), the default behavior of `mode` typically preserves the axis it acts along. In SciPy 1.11.0, this behavior will change: the default value of `keepdims` will become False, the `axis` over which the statistic is taken will be eliminated, and the value None will no longer be accepted. Set `keepdims` to True or False to avoid this warning.\n",
      "  mode, _ = stats.mode(_y[neigh_ind, k], axis=1)\n",
      "C:\\Users\\user\\anaconda3\\lib\\site-packages\\sklearn\\neighbors\\_classification.py:228: FutureWarning: Unlike other reduction functions (e.g. `skew`, `kurtosis`), the default behavior of `mode` typically preserves the axis it acts along. In SciPy 1.11.0, this behavior will change: the default value of `keepdims` will become False, the `axis` over which the statistic is taken will be eliminated, and the value None will no longer be accepted. Set `keepdims` to True or False to avoid this warning.\n",
      "  mode, _ = stats.mode(_y[neigh_ind, k], axis=1)\n",
      "C:\\Users\\user\\anaconda3\\lib\\site-packages\\sklearn\\neighbors\\_classification.py:228: FutureWarning: Unlike other reduction functions (e.g. `skew`, `kurtosis`), the default behavior of `mode` typically preserves the axis it acts along. In SciPy 1.11.0, this behavior will change: the default value of `keepdims` will become False, the `axis` over which the statistic is taken will be eliminated, and the value None will no longer be accepted. Set `keepdims` to True or False to avoid this warning.\n",
      "  mode, _ = stats.mode(_y[neigh_ind, k], axis=1)\n",
      "C:\\Users\\user\\anaconda3\\lib\\site-packages\\sklearn\\neighbors\\_classification.py:228: FutureWarning: Unlike other reduction functions (e.g. `skew`, `kurtosis`), the default behavior of `mode` typically preserves the axis it acts along. In SciPy 1.11.0, this behavior will change: the default value of `keepdims` will become False, the `axis` over which the statistic is taken will be eliminated, and the value None will no longer be accepted. Set `keepdims` to True or False to avoid this warning.\n",
      "  mode, _ = stats.mode(_y[neigh_ind, k], axis=1)\n",
      "C:\\Users\\user\\anaconda3\\lib\\site-packages\\sklearn\\neighbors\\_classification.py:228: FutureWarning: Unlike other reduction functions (e.g. `skew`, `kurtosis`), the default behavior of `mode` typically preserves the axis it acts along. In SciPy 1.11.0, this behavior will change: the default value of `keepdims` will become False, the `axis` over which the statistic is taken will be eliminated, and the value None will no longer be accepted. Set `keepdims` to True or False to avoid this warning.\n",
      "  mode, _ = stats.mode(_y[neigh_ind, k], axis=1)\n",
      "C:\\Users\\user\\anaconda3\\lib\\site-packages\\sklearn\\neighbors\\_classification.py:228: FutureWarning: Unlike other reduction functions (e.g. `skew`, `kurtosis`), the default behavior of `mode` typically preserves the axis it acts along. In SciPy 1.11.0, this behavior will change: the default value of `keepdims` will become False, the `axis` over which the statistic is taken will be eliminated, and the value None will no longer be accepted. Set `keepdims` to True or False to avoid this warning.\n",
      "  mode, _ = stats.mode(_y[neigh_ind, k], axis=1)\n",
      "C:\\Users\\user\\anaconda3\\lib\\site-packages\\sklearn\\neighbors\\_classification.py:228: FutureWarning: Unlike other reduction functions (e.g. `skew`, `kurtosis`), the default behavior of `mode` typically preserves the axis it acts along. In SciPy 1.11.0, this behavior will change: the default value of `keepdims` will become False, the `axis` over which the statistic is taken will be eliminated, and the value None will no longer be accepted. Set `keepdims` to True or False to avoid this warning.\n",
      "  mode, _ = stats.mode(_y[neigh_ind, k], axis=1)\n",
      "C:\\Users\\user\\anaconda3\\lib\\site-packages\\sklearn\\neighbors\\_classification.py:228: FutureWarning: Unlike other reduction functions (e.g. `skew`, `kurtosis`), the default behavior of `mode` typically preserves the axis it acts along. In SciPy 1.11.0, this behavior will change: the default value of `keepdims` will become False, the `axis` over which the statistic is taken will be eliminated, and the value None will no longer be accepted. Set `keepdims` to True or False to avoid this warning.\n",
      "  mode, _ = stats.mode(_y[neigh_ind, k], axis=1)\n",
      "C:\\Users\\user\\anaconda3\\lib\\site-packages\\sklearn\\model_selection\\_split.py:676: UserWarning: The least populated class in y has only 1 members, which is less than n_splits=9.\n",
      "  warnings.warn(\n",
      "C:\\Users\\user\\anaconda3\\lib\\site-packages\\sklearn\\neighbors\\_classification.py:228: FutureWarning: Unlike other reduction functions (e.g. `skew`, `kurtosis`), the default behavior of `mode` typically preserves the axis it acts along. In SciPy 1.11.0, this behavior will change: the default value of `keepdims` will become False, the `axis` over which the statistic is taken will be eliminated, and the value None will no longer be accepted. Set `keepdims` to True or False to avoid this warning.\n",
      "  mode, _ = stats.mode(_y[neigh_ind, k], axis=1)\n",
      "C:\\Users\\user\\anaconda3\\lib\\site-packages\\sklearn\\neighbors\\_classification.py:228: FutureWarning: Unlike other reduction functions (e.g. `skew`, `kurtosis`), the default behavior of `mode` typically preserves the axis it acts along. In SciPy 1.11.0, this behavior will change: the default value of `keepdims` will become False, the `axis` over which the statistic is taken will be eliminated, and the value None will no longer be accepted. Set `keepdims` to True or False to avoid this warning.\n",
      "  mode, _ = stats.mode(_y[neigh_ind, k], axis=1)\n",
      "C:\\Users\\user\\anaconda3\\lib\\site-packages\\sklearn\\neighbors\\_classification.py:228: FutureWarning: Unlike other reduction functions (e.g. `skew`, `kurtosis`), the default behavior of `mode` typically preserves the axis it acts along. In SciPy 1.11.0, this behavior will change: the default value of `keepdims` will become False, the `axis` over which the statistic is taken will be eliminated, and the value None will no longer be accepted. Set `keepdims` to True or False to avoid this warning.\n",
      "  mode, _ = stats.mode(_y[neigh_ind, k], axis=1)\n",
      "C:\\Users\\user\\anaconda3\\lib\\site-packages\\sklearn\\neighbors\\_classification.py:228: FutureWarning: Unlike other reduction functions (e.g. `skew`, `kurtosis`), the default behavior of `mode` typically preserves the axis it acts along. In SciPy 1.11.0, this behavior will change: the default value of `keepdims` will become False, the `axis` over which the statistic is taken will be eliminated, and the value None will no longer be accepted. Set `keepdims` to True or False to avoid this warning.\n",
      "  mode, _ = stats.mode(_y[neigh_ind, k], axis=1)\n",
      "C:\\Users\\user\\anaconda3\\lib\\site-packages\\sklearn\\neighbors\\_classification.py:228: FutureWarning: Unlike other reduction functions (e.g. `skew`, `kurtosis`), the default behavior of `mode` typically preserves the axis it acts along. In SciPy 1.11.0, this behavior will change: the default value of `keepdims` will become False, the `axis` over which the statistic is taken will be eliminated, and the value None will no longer be accepted. Set `keepdims` to True or False to avoid this warning.\n",
      "  mode, _ = stats.mode(_y[neigh_ind, k], axis=1)\n",
      "C:\\Users\\user\\anaconda3\\lib\\site-packages\\sklearn\\neighbors\\_classification.py:228: FutureWarning: Unlike other reduction functions (e.g. `skew`, `kurtosis`), the default behavior of `mode` typically preserves the axis it acts along. In SciPy 1.11.0, this behavior will change: the default value of `keepdims` will become False, the `axis` over which the statistic is taken will be eliminated, and the value None will no longer be accepted. Set `keepdims` to True or False to avoid this warning.\n",
      "  mode, _ = stats.mode(_y[neigh_ind, k], axis=1)\n",
      "C:\\Users\\user\\anaconda3\\lib\\site-packages\\sklearn\\neighbors\\_classification.py:228: FutureWarning: Unlike other reduction functions (e.g. `skew`, `kurtosis`), the default behavior of `mode` typically preserves the axis it acts along. In SciPy 1.11.0, this behavior will change: the default value of `keepdims` will become False, the `axis` over which the statistic is taken will be eliminated, and the value None will no longer be accepted. Set `keepdims` to True or False to avoid this warning.\n",
      "  mode, _ = stats.mode(_y[neigh_ind, k], axis=1)\n",
      "C:\\Users\\user\\anaconda3\\lib\\site-packages\\sklearn\\neighbors\\_classification.py:228: FutureWarning: Unlike other reduction functions (e.g. `skew`, `kurtosis`), the default behavior of `mode` typically preserves the axis it acts along. In SciPy 1.11.0, this behavior will change: the default value of `keepdims` will become False, the `axis` over which the statistic is taken will be eliminated, and the value None will no longer be accepted. Set `keepdims` to True or False to avoid this warning.\n",
      "  mode, _ = stats.mode(_y[neigh_ind, k], axis=1)\n",
      "C:\\Users\\user\\anaconda3\\lib\\site-packages\\sklearn\\neighbors\\_classification.py:228: FutureWarning: Unlike other reduction functions (e.g. `skew`, `kurtosis`), the default behavior of `mode` typically preserves the axis it acts along. In SciPy 1.11.0, this behavior will change: the default value of `keepdims` will become False, the `axis` over which the statistic is taken will be eliminated, and the value None will no longer be accepted. Set `keepdims` to True or False to avoid this warning.\n",
      "  mode, _ = stats.mode(_y[neigh_ind, k], axis=1)\n"
     ]
    },
    {
     "name": "stdout",
     "output_type": "stream",
     "text": [
      "mean cross_val_score KNeighborsClassifier() 0.2761904761904762\n",
      "\n",
      "\n"
     ]
    },
    {
     "name": "stderr",
     "output_type": "stream",
     "text": [
      "C:\\Users\\user\\anaconda3\\lib\\site-packages\\sklearn\\model_selection\\_split.py:676: UserWarning: The least populated class in y has only 1 members, which is less than n_splits=9.\n",
      "  warnings.warn(\n"
     ]
    },
    {
     "name": "stdout",
     "output_type": "stream",
     "text": [
      "cross_val_score of  RandomForestClassifier() [0.6        0.66666667 0.73333333 0.8        0.5        0.71428571\n",
      " 0.64285714 0.64285714 0.64285714]\n"
     ]
    },
    {
     "name": "stderr",
     "output_type": "stream",
     "text": [
      "C:\\Users\\user\\anaconda3\\lib\\site-packages\\sklearn\\model_selection\\_split.py:676: UserWarning: The least populated class in y has only 1 members, which is less than n_splits=9.\n",
      "  warnings.warn(\n"
     ]
    },
    {
     "name": "stdout",
     "output_type": "stream",
     "text": [
      "mean cross_val_score RandomForestClassifier() 0.628042328042328\n",
      "\n",
      "\n"
     ]
    },
    {
     "name": "stderr",
     "output_type": "stream",
     "text": [
      "C:\\Users\\user\\anaconda3\\lib\\site-packages\\sklearn\\model_selection\\_split.py:676: UserWarning: The least populated class in y has only 1 members, which is less than n_splits=9.\n",
      "  warnings.warn(\n"
     ]
    },
    {
     "name": "stdout",
     "output_type": "stream",
     "text": [
      "cross_val_score of  GradientBoostingClassifier() [1.         0.93333333 0.93333333 0.93333333 0.92857143 0.85714286\n",
      " 0.85714286 0.85714286 0.92857143]\n"
     ]
    },
    {
     "name": "stderr",
     "output_type": "stream",
     "text": [
      "C:\\Users\\user\\anaconda3\\lib\\site-packages\\sklearn\\model_selection\\_split.py:676: UserWarning: The least populated class in y has only 1 members, which is less than n_splits=9.\n",
      "  warnings.warn(\n"
     ]
    },
    {
     "name": "stdout",
     "output_type": "stream",
     "text": [
      "mean cross_val_score GradientBoostingClassifier() 0.9142857142857141\n",
      "\n",
      "\n"
     ]
    },
    {
     "name": "stderr",
     "output_type": "stream",
     "text": [
      "C:\\Users\\user\\anaconda3\\lib\\site-packages\\sklearn\\model_selection\\_split.py:676: UserWarning: The least populated class in y has only 1 members, which is less than n_splits=9.\n",
      "  warnings.warn(\n"
     ]
    },
    {
     "name": "stdout",
     "output_type": "stream",
     "text": [
      "cross_val_score of  AdaBoostClassifier() [0.66666667 0.73333333 0.4        0.6        0.5        0.42857143\n",
      " 0.5        0.64285714 0.5       ]\n"
     ]
    },
    {
     "name": "stderr",
     "output_type": "stream",
     "text": [
      "C:\\Users\\user\\anaconda3\\lib\\site-packages\\sklearn\\model_selection\\_split.py:676: UserWarning: The least populated class in y has only 1 members, which is less than n_splits=9.\n",
      "  warnings.warn(\n"
     ]
    },
    {
     "name": "stdout",
     "output_type": "stream",
     "text": [
      "mean cross_val_score AdaBoostClassifier() 0.5529100529100529\n",
      "\n",
      "\n"
     ]
    }
   ],
   "source": [
    "for i in models:\n",
    "    i.fit(x_train,y_train)\n",
    "    models_pred=i.predict(x_test)\n",
    "    print('cross_val_score of ',i,cross_val_score(i, x, y, cv=9))\n",
    "    print('mean cross_val_score',i,cross_val_score(i, x, y, cv=9).mean())\n",
    "    print('\\n')"
   ]
  },
  {
   "cell_type": "markdown",
   "id": "031bf401",
   "metadata": {},
   "source": [
    "#### Hyperparameter tuning"
   ]
  },
  {
   "cell_type": "code",
   "execution_count": 199,
   "id": "3c91ef76",
   "metadata": {},
   "outputs": [],
   "source": [
    "svc_parameters= {'kernel': ['linear','rbf']}"
   ]
  },
  {
   "cell_type": "code",
   "execution_count": 200,
   "id": "0cc3297c",
   "metadata": {},
   "outputs": [],
   "source": [
    "gscv = GridSearchCV(svc,svc_parameters)"
   ]
  },
  {
   "cell_type": "code",
   "execution_count": 201,
   "id": "76276f99",
   "metadata": {},
   "outputs": [
    {
     "name": "stderr",
     "output_type": "stream",
     "text": [
      "C:\\Users\\user\\anaconda3\\lib\\site-packages\\sklearn\\model_selection\\_split.py:676: UserWarning: The least populated class in y has only 1 members, which is less than n_splits=5.\n",
      "  warnings.warn(\n"
     ]
    },
    {
     "data": {
      "text/plain": [
       "GridSearchCV(estimator=SVC(), param_grid={'kernel': ['linear', 'rbf']})"
      ]
     },
     "execution_count": 201,
     "metadata": {},
     "output_type": "execute_result"
    }
   ],
   "source": [
    "gscv.fit(x_train,y_train)"
   ]
  },
  {
   "cell_type": "code",
   "execution_count": 202,
   "id": "9cb8c9b3",
   "metadata": {},
   "outputs": [
    {
     "name": "stdout",
     "output_type": "stream",
     "text": [
      "best score is: 0.21190476190476187 \n",
      " best estimator_s kernal: linear best parameter : {'kernel': 'linear'}\n"
     ]
    }
   ],
   "source": [
    "print('best score is:',gscv.best_score_,'\\n','best estimator_s kernal:',gscv.best_estimator_.kernel,'best parameter :',gscv.best_params_)"
   ]
  },
  {
   "cell_type": "markdown",
   "id": "56e725fd",
   "metadata": {},
   "source": [
    "#### pred"
   ]
  },
  {
   "cell_type": "code",
   "execution_count": 208,
   "id": "a98aa85a",
   "metadata": {},
   "outputs": [
    {
     "data": {
      "text/html": [
       "<div>\n",
       "<style scoped>\n",
       "    .dataframe tbody tr th:only-of-type {\n",
       "        vertical-align: middle;\n",
       "    }\n",
       "\n",
       "    .dataframe tbody tr th {\n",
       "        vertical-align: top;\n",
       "    }\n",
       "\n",
       "    .dataframe thead th {\n",
       "        text-align: right;\n",
       "    }\n",
       "</style>\n",
       "<table border=\"1\" class=\"dataframe\">\n",
       "  <thead>\n",
       "    <tr style=\"text-align: right;\">\n",
       "      <th></th>\n",
       "      <th>YEAR</th>\n",
       "      <th>QUE</th>\n",
       "      <th>SUB-QUE</th>\n",
       "      <th>MARKS</th>\n",
       "      <th>UNIT</th>\n",
       "      <th>TOPIC</th>\n",
       "    </tr>\n",
       "  </thead>\n",
       "  <tbody>\n",
       "    <tr>\n",
       "      <th>0</th>\n",
       "      <td>2022</td>\n",
       "      <td>1</td>\n",
       "      <td>0</td>\n",
       "      <td>2</td>\n",
       "      <td>1</td>\n",
       "      <td>22</td>\n",
       "    </tr>\n",
       "  </tbody>\n",
       "</table>\n",
       "</div>"
      ],
      "text/plain": [
       "   YEAR  QUE  SUB-QUE  MARKS  UNIT  TOPIC\n",
       "0  2022    1        0      2     1     22"
      ]
     },
     "execution_count": 208,
     "metadata": {},
     "output_type": "execute_result"
    }
   ],
   "source": [
    "df.sample()"
   ]
  },
  {
   "cell_type": "code",
   "execution_count": 224,
   "id": "1a4034b7",
   "metadata": {},
   "outputs": [],
   "source": [
    "data1 = [2022,1,0,2,1]"
   ]
  },
  {
   "cell_type": "code",
   "execution_count": 225,
   "id": "16b81bf3",
   "metadata": {},
   "outputs": [],
   "source": [
    "def prediction(data1):\n",
    "    data1= np.array(data1)\n",
    "    data1= data1.reshape(1,-1)\n",
    "    pred= RFC.predict(data1)\n",
    "    print(pred)\n",
    "    print(\"cv_score\",cross_val_score(RFC,x,y,cv=9).mean())"
   ]
  },
  {
   "cell_type": "code",
   "execution_count": 226,
   "id": "717ed653",
   "metadata": {
    "scrolled": true
   },
   "outputs": [
    {
     "name": "stderr",
     "output_type": "stream",
     "text": [
      "C:\\Users\\user\\anaconda3\\lib\\site-packages\\sklearn\\base.py:450: UserWarning: X does not have valid feature names, but RandomForestClassifier was fitted with feature names\n",
      "  warnings.warn(\n",
      "C:\\Users\\user\\anaconda3\\lib\\site-packages\\sklearn\\model_selection\\_split.py:676: UserWarning: The least populated class in y has only 1 members, which is less than n_splits=9.\n",
      "  warnings.warn(\n"
     ]
    },
    {
     "name": "stdout",
     "output_type": "stream",
     "text": [
      "[22]\n",
      "cv_score 0.2529100529100529\n"
     ]
    }
   ],
   "source": [
    "prediction(data1)"
   ]
  },
  {
   "cell_type": "code",
   "execution_count": 227,
   "id": "3846d815",
   "metadata": {},
   "outputs": [
    {
     "data": {
      "text/html": [
       "<div>\n",
       "<style scoped>\n",
       "    .dataframe tbody tr th:only-of-type {\n",
       "        vertical-align: middle;\n",
       "    }\n",
       "\n",
       "    .dataframe tbody tr th {\n",
       "        vertical-align: top;\n",
       "    }\n",
       "\n",
       "    .dataframe thead th {\n",
       "        text-align: right;\n",
       "    }\n",
       "</style>\n",
       "<table border=\"1\" class=\"dataframe\">\n",
       "  <thead>\n",
       "    <tr style=\"text-align: right;\">\n",
       "      <th></th>\n",
       "      <th>YEAR</th>\n",
       "      <th>QUE</th>\n",
       "      <th>SUB-QUE</th>\n",
       "      <th>MARKS</th>\n",
       "      <th>UNIT</th>\n",
       "      <th>TOPIC</th>\n",
       "    </tr>\n",
       "  </thead>\n",
       "  <tbody>\n",
       "    <tr>\n",
       "      <th>35</th>\n",
       "      <td>2018</td>\n",
       "      <td>2</td>\n",
       "      <td>2</td>\n",
       "      <td>4</td>\n",
       "      <td>3</td>\n",
       "      <td>18</td>\n",
       "    </tr>\n",
       "  </tbody>\n",
       "</table>\n",
       "</div>"
      ],
      "text/plain": [
       "    YEAR  QUE  SUB-QUE  MARKS  UNIT  TOPIC\n",
       "35  2018    2        2      4     3     18"
      ]
     },
     "execution_count": 227,
     "metadata": {},
     "output_type": "execute_result"
    }
   ],
   "source": [
    "df.sample()"
   ]
  },
  {
   "cell_type": "code",
   "execution_count": 228,
   "id": "0b90fda9",
   "metadata": {},
   "outputs": [],
   "source": [
    "data1 = [2018,6,2,6,4]"
   ]
  },
  {
   "cell_type": "code",
   "execution_count": 229,
   "id": "207ec81e",
   "metadata": {},
   "outputs": [],
   "source": [
    "def prediction(data1):\n",
    "    data1= np.array(data1)\n",
    "    data1= data1.reshape(1,-1)\n",
    "    pred= RFC.predict(data1)\n",
    "    print(pred)\n",
    "    print(\"cv_score\",cross_val_score(RFC,x,y,cv=9).mean())"
   ]
  },
  {
   "cell_type": "code",
   "execution_count": 230,
   "id": "874b97dd",
   "metadata": {
    "scrolled": false
   },
   "outputs": [
    {
     "name": "stderr",
     "output_type": "stream",
     "text": [
      "C:\\Users\\user\\anaconda3\\lib\\site-packages\\sklearn\\base.py:450: UserWarning: X does not have valid feature names, but RandomForestClassifier was fitted with feature names\n",
      "  warnings.warn(\n",
      "C:\\Users\\user\\anaconda3\\lib\\site-packages\\sklearn\\model_selection\\_split.py:676: UserWarning: The least populated class in y has only 1 members, which is less than n_splits=9.\n",
      "  warnings.warn(\n"
     ]
    },
    {
     "name": "stdout",
     "output_type": "stream",
     "text": [
      "[10]\n",
      "cv_score 0.2523809523809524\n"
     ]
    }
   ],
   "source": [
    "prediction(data1)"
   ]
  },
  {
   "cell_type": "markdown",
   "id": "e0c7e517",
   "metadata": {},
   "source": [
    "#### 2023 Pred"
   ]
  },
  {
   "cell_type": "code",
   "execution_count": 231,
   "id": "782f92e8",
   "metadata": {},
   "outputs": [
    {
     "data": {
      "text/plain": [
       "Index(['YEAR', 'QUE', 'SUB-QUE', 'MARKS', 'UNIT', 'TOPIC'], dtype='object')"
      ]
     },
     "execution_count": 231,
     "metadata": {},
     "output_type": "execute_result"
    }
   ],
   "source": [
    "df.columns"
   ]
  },
  {
   "cell_type": "code",
   "execution_count": 232,
   "id": "d8f289b6",
   "metadata": {},
   "outputs": [],
   "source": [
    "data1 = [2023,1,1,2,1]"
   ]
  },
  {
   "cell_type": "code",
   "execution_count": 233,
   "id": "73d3b41e",
   "metadata": {},
   "outputs": [],
   "source": [
    "def prediction(data1):\n",
    "    data1= np.array(data1)\n",
    "    data1= data1.reshape(1,-1)\n",
    "    pred= RFC.predict(data1)\n",
    "    print(pred)\n",
    "    print(\"cv_score\",cross_val_score(RFC,x,y,cv=9).mean())"
   ]
  },
  {
   "cell_type": "code",
   "execution_count": 234,
   "id": "4a1f0b87",
   "metadata": {
    "scrolled": false
   },
   "outputs": [
    {
     "name": "stderr",
     "output_type": "stream",
     "text": [
      "C:\\Users\\user\\anaconda3\\lib\\site-packages\\sklearn\\base.py:450: UserWarning: X does not have valid feature names, but RandomForestClassifier was fitted with feature names\n",
      "  warnings.warn(\n",
      "C:\\Users\\user\\anaconda3\\lib\\site-packages\\sklearn\\model_selection\\_split.py:676: UserWarning: The least populated class in y has only 1 members, which is less than n_splits=9.\n",
      "  warnings.warn(\n"
     ]
    },
    {
     "name": "stdout",
     "output_type": "stream",
     "text": [
      "[23]\n",
      "cv_score 0.21481481481481482\n"
     ]
    }
   ],
   "source": [
    "prediction(data1)"
   ]
  },
  {
   "cell_type": "raw",
   "id": "d2f55440",
   "metadata": {},
   "source": [
    "pred = RFC.predict(x_test)\n",
    "predicted = pd.DataFrame(pred, columns=['RFC predicted'])\n",
    "\n",
    "original = df[['TOPIC']].reset_index(drop=True)\n",
    "\n",
    "original_vs_predicted = pd.concat([original, predicted], axis=1)\n",
    "\n",
    "print(original_vs_predicted)"
   ]
  },
  {
   "cell_type": "raw",
   "id": "15e8ed9e",
   "metadata": {},
   "source": [
    "pred = RFC.predict(x_test)\n",
    "predicted = pd.DataFrame(pred, columns=['RFC predicted']).reset_index(drop=True)\n",
    "\n",
    "original = df[['TOPIC']].reset_index(drop=True)\n",
    "\n",
    "original_vs_predicted = pd.concat([original, predicted], axis=1).dropna()\n",
    "\n",
    "print(original_vs_predicted)\n"
   ]
  },
  {
   "cell_type": "code",
   "execution_count": 8,
   "id": "1b04fa04",
   "metadata": {},
   "outputs": [],
   "source": [
    "import joblib"
   ]
  },
  {
   "cell_type": "code",
   "execution_count": 29,
   "id": "5738d8c6",
   "metadata": {},
   "outputs": [
    {
     "data": {
      "text/plain": [
       "['EEC Prediction RFC']"
      ]
     },
     "execution_count": 29,
     "metadata": {},
     "output_type": "execute_result"
    }
   ],
   "source": [
    "joblib.dump(RFC,\"EEC Prediction RFC\")"
   ]
  }
 ],
 "metadata": {
  "kernelspec": {
   "display_name": "Python 3 (ipykernel)",
   "language": "python",
   "name": "python3"
  },
  "language_info": {
   "codemirror_mode": {
    "name": "ipython",
    "version": 3
   },
   "file_extension": ".py",
   "mimetype": "text/x-python",
   "name": "python",
   "nbconvert_exporter": "python",
   "pygments_lexer": "ipython3",
   "version": "3.9.13"
  }
 },
 "nbformat": 4,
 "nbformat_minor": 5
}
